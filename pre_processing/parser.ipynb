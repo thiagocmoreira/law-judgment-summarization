{
 "cells": [
  {
   "cell_type": "markdown",
   "metadata": {},
   "source": [
    "# Parser"
   ]
  },
  {
   "cell_type": "code",
   "execution_count": null,
   "metadata": {},
   "outputs": [],
   "source": [
    "import glob\n",
    "import json\n",
    "import string\n",
    "from tqdm import tqdm\n",
    "import jsonlines"
   ]
  },
  {
   "cell_type": "code",
   "execution_count": null,
   "metadata": {},
   "outputs": [],
   "source": [
    "json_list = glob.glob('data/registers/**/*.json')"
   ]
  },
  {
   "cell_type": "code",
   "execution_count": null,
   "metadata": {},
   "outputs": [],
   "source": [
    "files_2010 = []\n",
    "files_2011 = []\n",
    "files_2012 = []\n",
    "files_2013 = []\n",
    "files_2014 = []\n",
    "files_2016 = []\n",
    "files_2017 = []\n",
    "files_2018 = []\n",
    "files_2019 = []\n",
    "\n",
    "for json_file in json_list:\n",
    "    if '2010-' in json_file:\n",
    "        files_2010.append(json_file)\n",
    "    elif '2011-' in json_file:\n",
    "        files_2011.append(json_file)\n",
    "    elif '2012-' in json_file:\n",
    "        files_2012.append(json_file)\n",
    "    elif '2013-' in json_file:\n",
    "        files_2013.append(json_file)\n",
    "    elif '2014-' in json_file:\n",
    "        files_2014.append(json_file)\n",
    "    elif '2016-' in json_file:\n",
    "        files_2016.append(json_file)\n",
    "    elif '2017-' in json_file:\n",
    "        files_2017.append(json_file)\n",
    "    elif '2018-' in json_file:\n",
    "        files_2018.append(json_file)\n",
    "    elif '2019-' in json_file:\n",
    "        files_2019.append(json_file)"
   ]
  },
  {
   "cell_type": "code",
   "execution_count": null,
   "metadata": {},
   "outputs": [],
   "source": [
    "print(len(files_2010))\n",
    "print(len(files_2011))\n",
    "print(len(files_2012))\n",
    "print(len(files_2013))\n",
    "print(len(files_2014))\n",
    "print(len(files_2016))\n",
    "print(len(files_2017))\n",
    "print(len(files_2018))\n",
    "print(len(files_2019))"
   ]
  },
  {
   "cell_type": "code",
   "execution_count": null,
   "metadata": {},
   "outputs": [],
   "source": [
    "def generate_jsonl(file_name, files):\n",
    "    with open(file_name, 'w') as writer:\n",
    "        for file in tqdm(files):\n",
    "            try:\n",
    "                with open(file, 'r') as f:\n",
    "                    data = json.load(f)\n",
    "                    if type(data) != str:\n",
    "                        for register in data['registros']:\n",
    "                            write_data = json.dumps({\n",
    "                                'inteiro_teor': register['registro']['txtInteiroTeor'],\n",
    "                                'ementa': register['registro']['ementa']\n",
    "                            })\n",
    "                            writer.write(write_data)\n",
    "                            writer.write('\\n')\n",
    "            except Exception as e:\n",
    "                print(e)"
   ]
  },
  {
   "cell_type": "code",
   "execution_count": null,
   "metadata": {},
   "outputs": [],
   "source": [
    "generate_jsonl('2010.jsonl', files_2010)"
   ]
  },
  {
   "cell_type": "code",
   "execution_count": null,
   "metadata": {},
   "outputs": [],
   "source": [
    "generate_jsonl('2011.jsonl', files_2011)"
   ]
  },
  {
   "cell_type": "code",
   "execution_count": null,
   "metadata": {},
   "outputs": [],
   "source": [
    "generate_jsonl('2012.jsonl', files_2012)"
   ]
  },
  {
   "cell_type": "code",
   "execution_count": null,
   "metadata": {},
   "outputs": [],
   "source": [
    "generate_jsonl('2013.jsonl', files_2013)"
   ]
  },
  {
   "cell_type": "code",
   "execution_count": null,
   "metadata": {},
   "outputs": [],
   "source": [
    "generate_jsonl('2014.jsonl', files_2014)"
   ]
  },
  {
   "cell_type": "code",
   "execution_count": null,
   "metadata": {},
   "outputs": [],
   "source": [
    "generate_jsonl('2016.jsonl', files_2016)"
   ]
  },
  {
   "cell_type": "code",
   "execution_count": null,
   "metadata": {},
   "outputs": [],
   "source": [
    "generate_jsonl('2017.jsonl', files_2017)"
   ]
  },
  {
   "cell_type": "code",
   "execution_count": null,
   "metadata": {},
   "outputs": [],
   "source": [
    "generate_jsonl('2018.jsonl', files_2018)"
   ]
  },
  {
   "cell_type": "code",
   "execution_count": null,
   "metadata": {},
   "outputs": [],
   "source": [
    "generate_jsonl('2019.jsonl', files_2019)"
   ]
  },
  {
   "cell_type": "code",
   "execution_count": null,
   "metadata": {},
   "outputs": [],
   "source": []
  }
 ],
 "metadata": {
  "kernelspec": {
   "display_name": "Python 3",
   "language": "python",
   "name": "python3"
  },
  "language_info": {
   "codemirror_mode": {
    "name": "ipython",
    "version": 3
   },
   "file_extension": ".py",
   "mimetype": "text/x-python",
   "name": "python",
   "nbconvert_exporter": "python",
   "pygments_lexer": "ipython3",
   "version": "3.6.8"
  }
 },
 "nbformat": 4,
 "nbformat_minor": 2
}
