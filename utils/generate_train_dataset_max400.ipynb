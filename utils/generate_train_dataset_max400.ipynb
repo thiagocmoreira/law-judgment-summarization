{
 "cells": [
  {
   "cell_type": "code",
   "execution_count": 4,
   "metadata": {},
   "outputs": [],
   "source": [
    "import jsonlines\n",
    "from tqdm import tqdm\n",
    "import glob\n",
    "import csv\n",
    "import pandas as pd\n",
    "# from text_cleaner import clean_text"
   ]
  },
  {
   "cell_type": "code",
   "execution_count": 5,
   "metadata": {},
   "outputs": [
    {
     "data": {
      "text/plain": [
       "[]"
      ]
     },
     "execution_count": 5,
     "metadata": {},
     "output_type": "execute_result"
    }
   ],
   "source": [
    "acordaos_years = glob.glob('../../data/acordaos_tst/*.jsonl')\n",
    "acordaos_years = sorted(acordaos_years)\n",
    "acordaos_years"
   ]
  },
  {
   "cell_type": "code",
   "execution_count": 3,
   "metadata": {},
   "outputs": [
    {
     "name": "stderr",
     "output_type": "stream",
     "text": [
      "24it [00:00, 201.95it/s]"
     ]
    },
    {
     "name": "stdout",
     "output_type": "stream",
     "text": [
      "Arquivo 1...\n"
     ]
    },
    {
     "name": "stderr",
     "output_type": "stream",
     "text": [
      "130534it [00:14, 8775.76it/s]\n",
      "692it [00:00, 6917.04it/s]"
     ]
    },
    {
     "name": "stdout",
     "output_type": "stream",
     "text": [
      "Arquivo 2...\n"
     ]
    },
    {
     "name": "stderr",
     "output_type": "stream",
     "text": [
      "139185it [00:16, 8671.53it/s]\n",
      "672it [00:00, 6714.69it/s]"
     ]
    },
    {
     "name": "stdout",
     "output_type": "stream",
     "text": [
      "Arquivo 3...\n"
     ]
    },
    {
     "name": "stderr",
     "output_type": "stream",
     "text": [
      "119398it [00:15, 7863.58it/s]\n",
      "673it [00:00, 6728.16it/s]"
     ]
    },
    {
     "name": "stdout",
     "output_type": "stream",
     "text": [
      "Arquivo 4...\n"
     ]
    },
    {
     "name": "stderr",
     "output_type": "stream",
     "text": [
      "131581it [00:18, 7178.88it/s]\n",
      "628it [00:00, 6279.44it/s]"
     ]
    },
    {
     "name": "stdout",
     "output_type": "stream",
     "text": [
      "Arquivo 5...\n"
     ]
    },
    {
     "name": "stderr",
     "output_type": "stream",
     "text": [
      "146430it [00:22, 6428.39it/s]\n",
      "497it [00:00, 4966.98it/s]"
     ]
    },
    {
     "name": "stdout",
     "output_type": "stream",
     "text": [
      "Arquivo 6...\n"
     ]
    },
    {
     "name": "stderr",
     "output_type": "stream",
     "text": [
      "119007it [00:15, 7637.94it/s]"
     ]
    },
    {
     "name": "stdout",
     "output_type": "stream",
     "text": [
      "Fim! Acordãos salvos em dataset.csv!\n"
     ]
    },
    {
     "name": "stderr",
     "output_type": "stream",
     "text": [
      "\n"
     ]
    }
   ],
   "source": [
    "filename = 'dataset.csv'\n",
    "with open(filename, 'w', newline='') as csv_file:\n",
    "    writer = csv.writer(csv_file, delimiter=',')\n",
    "    writer.writerow(['ementa', 'inteiro_teor'])\n",
    "    for index, year in enumerate(acordaos_years):\n",
    "        print(f'Arquivo {index + 1}...')\n",
    "        with jsonlines.open(year) as reader:\n",
    "            for obj in tqdm(reader):\n",
    "                ementa = obj['ementa'].lower()\n",
    "                inteiro_teor = obj['inteiro_teor'].lower().replace(ementa, '')\n",
    "                inteiro_teor = inteiro_teor.replace('\\n\\n\\n', '\\n\\n')\n",
    "#                 inteiro_teor = clean_text(inteiro_teor)\n",
    "\n",
    "                ementa_size = len(ementa)\n",
    "                inteiro_teor_size = len(inteiro_teor)\n",
    "\n",
    "                if ementa_size >= 100 and ementa_size <= 400 and inteiro_teor_size >= 400 and inteiro_teor_size <= 2500:\n",
    "                    writer.writerow([ementa, inteiro_teor])\n",
    "    print(f'Fim! Acordãos salvos em {filename}!')"
   ]
  },
  {
   "cell_type": "code",
   "execution_count": 4,
   "metadata": {},
   "outputs": [
    {
     "name": "stdout",
     "output_type": "stream",
     "text": [
      "                                              ementa  \\\n",
      "0  agravo de instrumento. recurso de revista. aci...   \n",
      "1  embargos de declaração em recurso de revista. ...   \n",
      "2  agravo de instrumento. recurso de revista. emb...   \n",
      "3  agravo de instrumento. ausência de peça. trasl...   \n",
      "4  agravo de instrumento em recurso de revista – ...   \n",
      "\n",
      "                                        inteiro_teor  \n",
      "0  acórdão\\n\\n4ª turma gmfeo/vmt/cjj \\n\\nvistos, ...  \n",
      "1  a c ó r d ã o\\n\\n(ac. (6ª turma) gmacc/amt/ \\n...  \n",
      "2  acórdão\\n\\n4ª turma gmfeo/gs/cjj \\n\\nvistos, r...  \n",
      "3  acórdão\\n\\n6ª turma acv/alp/s \\n\\nvistos, rela...  \n",
      "4  a c ó r d ã o\\n\\n(ac. 8ª turma) gmmea/lhm/acnv...  \n"
     ]
    }
   ],
   "source": [
    "df = pd.read_csv('dataset.csv', encoding='utf-8')\n",
    "df = df[['ementa','inteiro_teor']]\n",
    "print(df.head())"
   ]
  },
  {
   "cell_type": "code",
   "execution_count": 5,
   "metadata": {},
   "outputs": [],
   "source": [
    "TRAIN_SIZE = 0.8\n",
    "SEED = 42\n",
    "train_dataset_original = df.sample(frac=TRAIN_SIZE, random_state=SEED)\n",
    "val_dataset_original = df.drop(train_dataset_original.index).reset_index(drop=True)\n",
    "train_dataset_original = train_dataset_original.reset_index(drop=True)"
   ]
  },
  {
   "cell_type": "code",
   "execution_count": 6,
   "metadata": {},
   "outputs": [],
   "source": [
    "train_dataset_original.to_csv('train-350-2250.csv', index=False)\n",
    "val_dataset_original.to_csv('validate-350-2250.csv', index=False)"
   ]
  },
  {
   "cell_type": "code",
   "execution_count": null,
   "metadata": {},
   "outputs": [],
   "source": []
  }
 ],
 "metadata": {
  "kernelspec": {
   "display_name": "Python 3",
   "language": "python",
   "name": "python3"
  },
  "language_info": {
   "codemirror_mode": {
    "name": "ipython",
    "version": 3
   },
   "file_extension": ".py",
   "mimetype": "text/x-python",
   "name": "python",
   "nbconvert_exporter": "python",
   "pygments_lexer": "ipython3",
   "version": "3.8.5"
  }
 },
 "nbformat": 4,
 "nbformat_minor": 4
}
