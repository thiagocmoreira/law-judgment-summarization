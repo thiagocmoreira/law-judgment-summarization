{
 "cells": [
  {
   "cell_type": "code",
   "execution_count": 1,
   "metadata": {},
   "outputs": [],
   "source": [
    "import jsonlines\n",
    "from tqdm import tqdm\n",
    "import glob\n",
    "import csv\n",
    "import textwrap\n",
    "# from text_cleaner import clean_text"
   ]
  },
  {
   "cell_type": "code",
   "execution_count": 2,
   "metadata": {},
   "outputs": [
    {
     "data": {
      "text/plain": [
       "['../../data/acordaos_tst/2010_final.jsonl',\n",
       " '../../data/acordaos_tst/2011_final.jsonl',\n",
       " '../../data/acordaos_tst/2012_final.jsonl',\n",
       " '../../data/acordaos_tst/2013_final.jsonl',\n",
       " '../../data/acordaos_tst/2014_final.jsonl',\n",
       " '../../data/acordaos_tst/2016_final.jsonl']"
      ]
     },
     "execution_count": 2,
     "metadata": {},
     "output_type": "execute_result"
    }
   ],
   "source": [
    "acordaos_years = glob.glob('../../data/acordaos_tst/*.jsonl')\n",
    "acordaos_years = sorted(acordaos_years)\n",
    "acordaos_years"
   ]
  },
  {
   "cell_type": "code",
   "execution_count": 4,
   "metadata": {},
   "outputs": [
    {
     "name": "stderr",
     "output_type": "stream",
     "text": [
      "22it [00:00, 218.60it/s]"
     ]
    },
    {
     "name": "stdout",
     "output_type": "stream",
     "text": [
      "Arquivo 1...\n"
     ]
    },
    {
     "name": "stderr",
     "output_type": "stream",
     "text": [
      "130534it [00:16, 7859.39it/s]\n",
      "901it [00:00, 9000.78it/s]"
     ]
    },
    {
     "name": "stdout",
     "output_type": "stream",
     "text": [
      "Arquivo 2...\n"
     ]
    },
    {
     "name": "stderr",
     "output_type": "stream",
     "text": [
      "139185it [00:16, 8245.71it/s]\n",
      "702it [00:00, 7013.90it/s]"
     ]
    },
    {
     "name": "stdout",
     "output_type": "stream",
     "text": [
      "Arquivo 3...\n"
     ]
    },
    {
     "name": "stderr",
     "output_type": "stream",
     "text": [
      "119398it [00:15, 7878.31it/s]\n",
      "611it [00:00, 6108.26it/s]"
     ]
    },
    {
     "name": "stdout",
     "output_type": "stream",
     "text": [
      "Arquivo 4...\n"
     ]
    },
    {
     "name": "stderr",
     "output_type": "stream",
     "text": [
      "131581it [00:19, 6705.63it/s]\n",
      "762it [00:00, 7604.07it/s]"
     ]
    },
    {
     "name": "stdout",
     "output_type": "stream",
     "text": [
      "Arquivo 5...\n"
     ]
    },
    {
     "name": "stderr",
     "output_type": "stream",
     "text": [
      "146430it [00:24, 5990.17it/s]\n",
      "619it [00:00, 6188.07it/s]"
     ]
    },
    {
     "name": "stdout",
     "output_type": "stream",
     "text": [
      "Arquivo 6...\n"
     ]
    },
    {
     "name": "stderr",
     "output_type": "stream",
     "text": [
      "119007it [00:16, 7010.98it/s]"
     ]
    },
    {
     "name": "stdout",
     "output_type": "stream",
     "text": [
      "Fim! Acordãos salvos em dataset.csv!\n"
     ]
    },
    {
     "name": "stderr",
     "output_type": "stream",
     "text": [
      "\n"
     ]
    }
   ],
   "source": [
    "filename = 'dataset.csv'\n",
    "with open(filename, 'w', newline='') as csv_file:\n",
    "\n",
    "    writer = csv.writer(csv_file, delimiter=',')\n",
    "    writer.writerow(['ementa', 'inteiro_teor'])\n",
    "\n",
    "    for index, year in enumerate(acordaos_years):\n",
    "        print(f'Arquivo {index + 1}...')\n",
    "\n",
    "        with jsonlines.open(year) as reader:\n",
    "            for obj in tqdm(reader):\n",
    "                ementa = obj['ementa'].lower()\n",
    "                inteiro_teor = obj['inteiro_teor'].lower().replace(ementa, '')\n",
    "                inteiro_teor = inteiro_teor.replace('\\n\\n\\n', '\\n\\n')\n",
    "#                 inteiro_teor = clean_text(inteiro_teor)\n",
    "\n",
    "                ementa_size = len(ementa)\n",
    "                inteiro_teor_size = len(inteiro_teor)\n",
    "\n",
    "                if ementa_size >= 100 and ementa_size <= 256 and inteiro_teor_size >= 100 and inteiro_teor_size <= 2560:\n",
    "                    splitted_texts = textwrap.wrap(inteiro_teor, 512)\n",
    "                    \n",
    "                    for text in splitted_texts:\n",
    "                        writer.writerow([ementa, text])\n",
    "    print(f'Fim! Acordãos salvos em {filename}!')"
   ]
  },
  {
   "cell_type": "code",
   "execution_count": null,
   "metadata": {},
   "outputs": [],
   "source": []
  }
 ],
 "metadata": {
  "kernelspec": {
   "display_name": "Python 3",
   "language": "python",
   "name": "python3"
  },
  "language_info": {
   "codemirror_mode": {
    "name": "ipython",
    "version": 3
   },
   "file_extension": ".py",
   "mimetype": "text/x-python",
   "name": "python",
   "nbconvert_exporter": "python",
   "pygments_lexer": "ipython3",
   "version": "3.8.2"
  }
 },
 "nbformat": 4,
 "nbformat_minor": 4
}
