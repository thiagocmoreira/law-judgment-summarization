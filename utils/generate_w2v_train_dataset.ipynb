{
 "cells": [
  {
   "cell_type": "code",
   "execution_count": 17,
   "metadata": {},
   "outputs": [],
   "source": [
    "import jsonlines\n",
    "from tqdm import tqdm\n",
    "import glob\n",
    "import csv"
   ]
  },
  {
   "cell_type": "code",
   "execution_count": 4,
   "metadata": {},
   "outputs": [
    {
     "data": {
      "text/plain": [
       "['../../data/acordaos_tst/2010_final.jsonl',\n",
       " '../../data/acordaos_tst/2011_final.jsonl',\n",
       " '../../data/acordaos_tst/2012_final.jsonl',\n",
       " '../../data/acordaos_tst/2013_final.jsonl',\n",
       " '../../data/acordaos_tst/2014_final.jsonl',\n",
       " '../../data/acordaos_tst/2016_final.jsonl']"
      ]
     },
     "execution_count": 4,
     "metadata": {},
     "output_type": "execute_result"
    }
   ],
   "source": [
    "acordaos_years = glob.glob('../../data/acordaos_tst/*.jsonl')\n",
    "acordaos_years = sorted(path_list)\n",
    "acordaos_years"
   ]
  },
  {
   "cell_type": "code",
   "execution_count": 24,
   "metadata": {},
   "outputs": [
    {
     "name": "stderr",
     "output_type": "stream",
     "text": [
      "5499it [00:02, 2600.99it/s]\n"
     ]
    }
   ],
   "source": [
    "with open('dataset.csv', 'w', newline='') as csv_file:\n",
    "    with jsonlines.open(acordaos_years[1]) as reader:\n",
    "        writer = csv.writer(csv_file, delimiter=',')\n",
    "        writer.writerow(['ementa', 'inteiro_teor'])\n",
    "        it = 0\n",
    "        for obj in tqdm(reader):\n",
    "            ementa = inteiro_teor = obj['ementa'].lower().replace('\\n\\n', '\\n').rstrip()\n",
    "            inteiro_teor = obj['inteiro_teor'].lower()\n",
    "            writer.writerow([ementa, inteiro_teor])\n",
    "            it += 1\n",
    "            if it == 5500:\n",
    "                break"
   ]
  },
  {
   "cell_type": "code",
   "execution_count": null,
   "metadata": {},
   "outputs": [],
   "source": []
  }
 ],
 "metadata": {
  "kernelspec": {
   "display_name": "Python 3",
   "language": "python",
   "name": "python3"
  },
  "language_info": {
   "codemirror_mode": {
    "name": "ipython",
    "version": 3
   },
   "file_extension": ".py",
   "mimetype": "text/x-python",
   "name": "python",
   "nbconvert_exporter": "python",
   "pygments_lexer": "ipython3",
   "version": "3.8.5"
  }
 },
 "nbformat": 4,
 "nbformat_minor": 4
}
