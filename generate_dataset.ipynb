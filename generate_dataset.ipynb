{
 "cells": [
  {
   "cell_type": "code",
   "execution_count": 2,
   "metadata": {},
   "outputs": [],
   "source": [
    "import jsonlines\n",
    "import json\n",
    "from tqdm import tqdm\n",
    "import glob\n",
    "import re"
   ]
  },
  {
   "cell_type": "code",
   "execution_count": 3,
   "metadata": {},
   "outputs": [
    {
     "data": {
      "text/plain": [
       "['data/final_features/2010_final.jsonl',\n",
       " 'data/final_features/2011_final.jsonl',\n",
       " 'data/final_features/2012_final.jsonl',\n",
       " 'data/final_features/2013_final.jsonl',\n",
       " 'data/final_features/2014_final.jsonl',\n",
       " 'data/final_features/2016_final.jsonl']"
      ]
     },
     "execution_count": 3,
     "metadata": {},
     "output_type": "execute_result"
    }
   ],
   "source": [
    "path_list = glob.glob('data/final_features/*.jsonl')\n",
    "path_list = sorted(path_list)\n",
    "path_list"
   ]
  },
  {
   "cell_type": "code",
   "execution_count": 4,
   "metadata": {},
   "outputs": [
    {
     "name": "stderr",
     "output_type": "stream",
     "text": [
      "2988it [00:01, 89.78it/s]\n"
     ]
    }
   ],
   "source": [
    "with open('dataset.txt', 'w', encoding='utf-8') as f:\n",
    "    with jsonlines.open(path_list[-1]) as reader:\n",
    "        it = 0\n",
    "        for obj in tqdm(reader):\n",
    "            f.write(obj['ementa'].lower().replace('\\n\\n', '\\n'))\n",
    "            f.write('\\n\\n')\n",
    "            it += 1\n",
    "            if it == 3000:\n",
    "                break"
   ]
  },
  {
   "cell_type": "code",
   "execution_count": null,
   "metadata": {},
   "outputs": [],
   "source": []
  }
 ],
 "metadata": {
  "kernelspec": {
   "display_name": "Python 3",
   "language": "python",
   "name": "python3"
  },
  "language_info": {
   "codemirror_mode": {
    "name": "ipython",
    "version": 3
   },
   "file_extension": ".py",
   "mimetype": "text/x-python",
   "name": "python",
   "nbconvert_exporter": "python",
   "pygments_lexer": "ipython3",
   "version": "3.6.8"
  }
 },
 "nbformat": 4,
 "nbformat_minor": 2
}
