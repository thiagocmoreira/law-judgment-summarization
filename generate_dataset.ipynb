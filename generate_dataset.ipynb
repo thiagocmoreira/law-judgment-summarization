{
 "cells": [
  {
   "cell_type": "code",
   "execution_count": 23,
   "metadata": {},
   "outputs": [],
   "source": [
    "import jsonlines\n",
    "import json\n",
    "from tqdm import tqdm\n",
    "import glob\n",
    "import re"
   ]
  },
  {
   "cell_type": "code",
   "execution_count": 24,
   "metadata": {},
   "outputs": [
    {
     "data": {
      "text/plain": [
       "['data/final_features/2010_final.jsonl',\n",
       " 'data/final_features/2011_final.jsonl',\n",
       " 'data/final_features/2012_final.jsonl',\n",
       " 'data/final_features/2013_final.jsonl',\n",
       " 'data/final_features/2014_final.jsonl',\n",
       " 'data/final_features/2016_final.jsonl']"
      ]
     },
     "execution_count": 24,
     "metadata": {},
     "output_type": "execute_result"
    }
   ],
   "source": [
    "path_list = glob.glob('data/final_features/*.jsonl')\n",
    "path_list = sorted(path_list)\n",
    "path_list"
   ]
  },
  {
   "cell_type": "code",
   "execution_count": 29,
   "metadata": {},
   "outputs": [
    {
     "name": "stderr",
     "output_type": "stream",
     "text": [
      "276it [00:00, 2756.73it/s]\n"
     ]
    }
   ],
   "source": [
    "with open('dataset.txt', 'w', encoding='utf-8') as f:\n",
    "    with jsonlines.open(path_list[-1]) as reader:\n",
    "        it = 0\n",
    "        for obj in tqdm(reader):\n",
    "            texts = obj['inteiro_teor'].lower().replace('\\n\\n', '\\n').rstrip().rsplit('.')\n",
    "            for index, text in enumerate(texts):\n",
    "                has_text = False\n",
    "                if len(text) >= 250:\n",
    "                    has_text = True\n",
    "                    f.write(text.strip())\n",
    "                    if index + 1 != len(text):\n",
    "                        f.write('\\n')\n",
    "                if has_text:\n",
    "                    f.write('\\n\\n')\n",
    "            it += 1\n",
    "            if it == 450:\n",
    "                break"
   ]
  },
  {
   "cell_type": "code",
   "execution_count": 4,
   "metadata": {},
   "outputs": [
    {
     "name": "stderr",
     "output_type": "stream",
     "text": [
      "131581it [00:25, 5254.25it/s]\n"
     ]
    }
   ],
   "source": [
    "data = []\n",
    "with jsonlines.open(path_list[-3]) as reader:\n",
    "    for obj in tqdm(reader):\n",
    "        data.append(obj)"
   ]
  },
  {
   "cell_type": "code",
   "execution_count": 13,
   "metadata": {},
   "outputs": [
    {
     "name": "stdout",
     "output_type": "stream",
     "text": [
      "['acórdão\\n5ª turma gmemp\\n/\\nagravo de instrumento', ' recurso de revista', '\\ndeve ser confirmada a negativa de seguimento do recurso de revista quando não preenchidos os seus requisitos de admissibilidade', '\\nagravo de instrumento desprovido', '\\nvistos, relatados e discutidos estes autos de agravo de instrumento em recurso de revista n° tst-airr-299-77', '2011', '5', '15', '002, em que é agravante banco do brasil s', 'a', '\\ne agravado valdir donizetti mussio', '\\ntrata-se de agravo de instrumento interposto em face do despacho mediante o qual foi denegado seguimento ao recurso de revista', '\\nsem remessa dos autos à procuradoria geral do trabalho, tendo em vista o disposto no artigo 83 do regimento interno do tribunal superior do trabalho', '\\né o relatório', '\\nvoto\\ni - conhecimento presentes os pressupostos extrínsecos de admissibilidade, conheço', '\\nii – mérito trata-se de agravo de instrumento interposto em face do despacho mediante o qual foi denegado seguimento ao recurso de revista, em face dos seguintes fundamentos:\\npressupostos extrínsecos tempestivo o recurso (decisão publicada em 01/06/2012; recurso apresentado em 11/06/2012)', '\\nregular a representação processual', ' \\nsatisfeito o preparo', '\\npressupostos intrínsecos direito processual civil e do trabalho / recurso / transcendência a análise do recurso, neste tópico, resta prejudicada, em razão da aplicação do princípio da transcendência previsto no art', ' 896-a da clt depender, ainda, de regulamentação pelo c', ' tst', '\\ndireito processual civil e do trabalho / formação, suspensão e extinção do processo / extinção do processo sem resolução de mérito carência da ação', '\\nimpossibilidade jurídica do pedido', '\\nconstou, do v', ' acórdão, que seria rejeitada a preliminar de impossibilidade jurídica do pedido calcada no artigo 37, xvi, da constituição federal, porque o banco reclamado é sociedade de economia mista, devendo obedecer ao quanto previsto na legislação trabalhista ordinária (inteligência do artigo 173, §1°, ii, da carta magna)', '\\ncom relação à aludida matéria, inviável o apelo, pois não restou configurada, de forma direta, nos termos em que estabelece o § 6º do art', ' 896 da clt, a alegada ofensa ao dispositivo constitucional invocado (art', ' 37, xvi, da cf), na medida em que os entes da administração pública indireta sujeitam-se ao regime jurídico próprio de empresas privadas, inclusive para fins trabalhistas, nos termos do artigo 173, § 1º, inciso ii, da constituição federal', '\\nremuneração, verbas indenizatórias e benefícios / salário / diferença salarial / salário por acúmulo de cargo / função no v', ' acórdão, foi mantida a condenação do reclamado ao pagamento de diferenças salariais por acúmulo de função, no importe de r$ 600,00 por mês, sob o fundamento de que, segundo o cartao eletrônico de acesso, a farta documentação e os depoimentos das partes e da testemunha, ficou claro que o reclamante exercia as tarefas e movimentações do nível mais elevado, as quais dependiam mais responsabilidade e complexidade', '\\nconsoante se depreende, a questão relativa ao acolhimento do pedido de diferenças salariais decorrentes do acúmulo de funções foi solucionada com base na análise dos fatos e provas', ' nessa hipótese, por não se lastrear o v', ' julgado em tese de direito, inviável a aferição de ofensa a dispositivos constitucionais', ' incidência da súmula 126 do c', ' tst', '\\nduração do trabalho / horas extras no v', ' acórdão, foi mantida a condenação em horas extras, sob o fundamento de que, apesar do juízo de origem ter fixado os horários de trabalho com base na prova oral produzida, não havia, nos argumentos recursais, fundamento capaz de provocar modificação na valoração da prova e reforma da decisão', '\\npelo que se vê, a questão relativa ao acolhimento das horas extras foi solucionada com base na análise dos fatos e provas', ' nessa hipótese, por não se lastrear o v', ' julgado em tese de direito, inviável a aferição de ofensa aos dispositivos legais invocados, a dissenso de súmula e de divergência jurisprudencial', ' incidência da súmula 126 do c', ' tst', '\\nresponsabilidade civil do empregador / indenizaçao por dano moral indenização por dano moral', '\\ntransporte de valores', '\\nvalor arbitrado', '\\nfoi mantida a condenação do recorrente ao pagamento de indenização por dano moral, porque, diante da notória violência que nos ronda, restou injustificada a atitude do reclamado em atribuir ao reclamante, contratado para exercer funções internas, o transporte de dinheiro externamente, sem qualquer proteção, na medida em que, além de infringir regra contratual básica de equivalência das obrigações contratuais, o reclamado deu de ombros ao direito fundamental do trabalhador - o labor seguro, protegido contra riscos de acidentes -obrigação fundamental do empregador', '\\no c', ' tst firmou o posicionamento no sentido de que a conduta do empregador de exigir do empregado o desempenho de atividade para a qual não fora contratado - transporte de valores -, com exposição indevida a situação de risco, enseja o pagamento de indenização por dano moral, nos termos do art', ' 5º, x, da constituição federal', '\\na interpretação conferida pelo v', ' acórdão está em consonância com iterativa, notória e atual jurisprudência do c', ' tst (rr-532-68', '2001', '5', '09', '0661, 1ª turma, dejt-28/10/10, ed-rr-128100-96', '2000', '5', '09', '0001, 2ª turma, dejt-/10/11, rr-71200-39', '2007', '5', '12', '0042, 3ª turma, dejt-17/09/10, rr-19600-64', '2003', '5', '09', '0668, 4ª turma, dejt-07/05/10, rr-16440-80', '2008', '5', '05', '0631, 5ª turma, dejt-03/09/10, rr-23800-65', '2009', '5', '03', '0153, 6ª turma, dejt-03/09/10, rr-137500-75', '2006', '5', '18', '0001, 7ª turma, dejt-05/11/10, rr-11600-59', '2007', '5', '13', '0010, 8ª turma, dejt-18/06/10 e e-ed-rr-95700-10', '2002', '5', '09', '0017, sdi-1, dejt-17/12/10)', '\\ninviável, por decorrência, o apelo no aspecto, nos termos do art', ' 896, § 4º, da clt, c/c a súmula 333 do c', ' tst', '\\nquanto ao valor arbitrado à indenização, foi mantido no v', ' acórdão aquele fixado na origem (r$15', '000,00), porque, de um lado, sequer compensa a exposição do reclamante ao risco de vida, e, de outro, pouco representa diante do portentoso poderio patrimonial do reclamado, que alardeia ser a maior instituição bancária desse país, e da vilania cometida', '\\nportanto, a v', ' decisão, no aspecto, é resultado das provas, as quais foram apreciadas de acordo com o livre convencimento preconizado no art', ' 131 do cpc (aplicação da súmula 126 do c', ' tst)', ' nessa hipótese, o v', ' julgado reveste-se de caráter subjetivo, o que torna inviável a aferição de ofensa aos dispositivos legais invocados', '\\nconclusão denego seguimento ao recurso de revista', '\\nno agravo de instrumento interposto, sustenta-se a viabilidade do recurso de revista ao argumento de que atendeu aos requisitos do artigo 896, alíneas a, b, e c, da clt', '\\nsem razão', '\\ndo cotejo dos fundamentos do despacho agravado com as razões contidas na minuta, se observa que as alegações expostas não logram êxito em demonstrar o desacerto do despacho de admissibilidade, considerando, sobretudo, os termos da decisão proferida pelo regional, a evidenciar a correta aplicação de entendimento pacificado nesta corte', '\\nmantém-se, portanto, o despacho negativo de admissibilidade, cujos fundamentos passam a fazer parte integrante das motivações desta decisão', '\\nnego provimento', '\\nisto posto acordam os ministros da quinta turma do tribunal superior do trabalho, por unanimidade, negar provimento ao agravo de instrumento', '\\nbrasília, 06 de março de 2013', '\\nfirmado por assinatura digital (lei nº 11', '419/2006) emmanoel pereira ministro relator']\n"
     ]
    }
   ],
   "source": [
    "print(data[15]['inteiro_teor'].lower().replace('\\n\\n', '\\n').rstrip().rsplit('.'))"
   ]
  },
  {
   "cell_type": "code",
   "execution_count": 9,
   "metadata": {},
   "outputs": [
    {
     "data": {
      "text/plain": [
       "15"
      ]
     },
     "execution_count": 9,
     "metadata": {},
     "output_type": "execute_result"
    }
   ],
   "source": [
    "len('Nego provimento')"
   ]
  },
  {
   "cell_type": "code",
   "execution_count": 16,
   "metadata": {},
   "outputs": [
    {
     "data": {
      "text/plain": [
       "253"
      ]
     },
     "execution_count": 16,
     "metadata": {},
     "output_type": "execute_result"
    }
   ],
   "source": [
    "len('Verifico não demonstrada a violação direta e literal de preceito da Constituição da República, nos moldes do § 2º do artigo 896 da CLT. Resta, portanto, mantido o óbice ao transito da revista, a ensejar, via de consequência, o desprovimento deste agravo')"
   ]
  },
  {
   "cell_type": "code",
   "execution_count": null,
   "metadata": {},
   "outputs": [],
   "source": []
  }
 ],
 "metadata": {
  "kernelspec": {
   "display_name": "Python 3",
   "language": "python",
   "name": "python3"
  },
  "language_info": {
   "codemirror_mode": {
    "name": "ipython",
    "version": 3
   },
   "file_extension": ".py",
   "mimetype": "text/x-python",
   "name": "python",
   "nbconvert_exporter": "python",
   "pygments_lexer": "ipython3",
   "version": "3.6.8"
  }
 },
 "nbformat": 4,
 "nbformat_minor": 2
}
