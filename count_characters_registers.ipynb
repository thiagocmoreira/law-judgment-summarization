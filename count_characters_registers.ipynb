{
 "cells": [
  {
   "cell_type": "markdown",
   "metadata": {},
   "source": [
    "# Contagem de caracteres das ementas"
   ]
  },
  {
   "cell_type": "markdown",
   "metadata": {},
   "source": [
    "Importando bibliotecas"
   ]
  },
  {
   "cell_type": "code",
   "execution_count": 1,
   "metadata": {},
   "outputs": [],
   "source": [
    "import jsonlines\n",
    "import json\n",
    "import re\n",
    "from tqdm import tqdm\n",
    "import glob\n",
    "import numpy as np\n",
    "import pandas as pd\n",
    "import seaborn as sns\n",
    "from text_cleaner import clean_text"
   ]
  },
  {
   "cell_type": "markdown",
   "metadata": {},
   "source": [
    "Funções para ler os dados e escrever arquivos para análise"
   ]
  },
  {
   "cell_type": "code",
   "execution_count": 2,
   "metadata": {},
   "outputs": [],
   "source": [
    "def read_registers_file(path, acordaos_year):\n",
    "    with jsonlines.open(path) as reader:\n",
    "        for obj in tqdm(reader):\n",
    "            acordaos_year.append({\n",
    "                'ementa': clean_text(obj['ementa']),\n",
    "                'inteiro_teor': clean_text(obj['inteiro_teor'])\n",
    "            })"
   ]
  },
  {
   "cell_type": "code",
   "execution_count": 3,
   "metadata": {},
   "outputs": [],
   "source": [
    "def generate_count(registers, len_count_buckets, len_count):\n",
    "    for acordao in registers:\n",
    "        len_count.append(len(acordao['ementa']))\n",
    "        key = int(len(acordao['ementa']) / 100)\n",
    "        if key in len_count_buckets.keys():\n",
    "            len_count_buckets[key] = len_count_buckets[key] + 1\n",
    "        else:\n",
    "            len_count_buckets[key] = 1"
   ]
  },
  {
   "cell_type": "code",
   "execution_count": 4,
   "metadata": {},
   "outputs": [],
   "source": [
    "def write_count_buckets_file(filename, data):\n",
    "    with open(filename, 'w') as writer:\n",
    "        write_data = json.dumps(data)\n",
    "        writer.write(write_data)"
   ]
  },
  {
   "cell_type": "code",
   "execution_count": 5,
   "metadata": {},
   "outputs": [],
   "source": [
    "def write_count_file(data):\n",
    "    with open('data/len_count/acordaos_all_count.txt', 'a+', encoding='utf-8') as writer:\n",
    "        for el in data:\n",
    "            writer.write(str(el) + '\\n')"
   ]
  },
  {
   "cell_type": "markdown",
   "metadata": {},
   "source": [
    "#### Acórdãos de 2010"
   ]
  },
  {
   "cell_type": "code",
   "execution_count": 7,
   "metadata": {},
   "outputs": [
    {
     "name": "stderr",
     "output_type": "stream",
     "text": [
      "157824it [09:00, 292.12it/s]\n"
     ]
    }
   ],
   "source": [
    "acordaos_2010 = []\n",
    "read_registers_file('data/parsed_registers/2010.jsonl', acordaos_2010)"
   ]
  },
  {
   "cell_type": "code",
   "execution_count": 8,
   "metadata": {},
   "outputs": [],
   "source": [
    "len_count_2010_buckets = {}\n",
    "len_count_2010 = []\n",
    "generate_count(acordaos_2010, len_count_2010_buckets, len_count_2010)"
   ]
  },
  {
   "cell_type": "code",
   "execution_count": 9,
   "metadata": {},
   "outputs": [
    {
     "data": {
      "text/plain": [
       "157824"
      ]
     },
     "execution_count": 9,
     "metadata": {},
     "output_type": "execute_result"
    }
   ],
   "source": [
    "len(len_count_2010)"
   ]
  },
  {
   "cell_type": "code",
   "execution_count": 10,
   "metadata": {},
   "outputs": [],
   "source": [
    "write_count_buckets_file('data/len_count/2010_count.json', len_count_2010_buckets)\n",
    "write_count_file(len_count_2010)"
   ]
  },
  {
   "cell_type": "markdown",
   "metadata": {},
   "source": [
    "#### Acórdãos 2011"
   ]
  },
  {
   "cell_type": "code",
   "execution_count": 6,
   "metadata": {},
   "outputs": [
    {
     "name": "stderr",
     "output_type": "stream",
     "text": [
      "171255it [12:08, 235.03it/s]\n"
     ]
    }
   ],
   "source": [
    "acordaos_2011 = []\n",
    "read_registers_file('data/parsed_registers/2011.jsonl', acordaos_2011)"
   ]
  },
  {
   "cell_type": "code",
   "execution_count": 7,
   "metadata": {},
   "outputs": [],
   "source": [
    "len_count_2011_buckets = {}\n",
    "len_count_2011 = []\n",
    "generate_count(acordaos_2011, len_count_2011_buckets, len_count_2011)"
   ]
  },
  {
   "cell_type": "code",
   "execution_count": 8,
   "metadata": {},
   "outputs": [],
   "source": [
    "write_count_buckets_file('data/len_count/2011_count.json', len_count_2011_buckets)\n",
    "write_count_file(len_count_2011)"
   ]
  },
  {
   "cell_type": "markdown",
   "metadata": {},
   "source": [
    "#### Acórdãos 2012"
   ]
  },
  {
   "cell_type": "code",
   "execution_count": 6,
   "metadata": {},
   "outputs": [
    {
     "name": "stderr",
     "output_type": "stream",
     "text": [
      "146400it [09:55, 245.74it/s]\n"
     ]
    }
   ],
   "source": [
    "acordaos_2012 = []\n",
    "read_registers_file('data/parsed_registers/2012.jsonl', acordaos_2012)"
   ]
  },
  {
   "cell_type": "code",
   "execution_count": 7,
   "metadata": {},
   "outputs": [],
   "source": [
    "len_count_2012_buckets = {}\n",
    "len_count_2012 = []\n",
    "generate_count(acordaos_2012, len_count_2012_buckets, len_count_2012)"
   ]
  },
  {
   "cell_type": "code",
   "execution_count": 8,
   "metadata": {},
   "outputs": [],
   "source": [
    "write_count_buckets_file('data/len_count/2012_count.json', len_count_2012_buckets)\n",
    "write_count_file(len_count_2012)"
   ]
  },
  {
   "cell_type": "markdown",
   "metadata": {},
   "source": [
    "#### Acórdãos 2013"
   ]
  },
  {
   "cell_type": "code",
   "execution_count": 6,
   "metadata": {},
   "outputs": [
    {
     "name": "stderr",
     "output_type": "stream",
     "text": [
      "167940it [14:04, 198.88it/s]\n"
     ]
    }
   ],
   "source": [
    "acordaos_2013 = []\n",
    "read_registers_file('data/parsed_registers/2013.jsonl', acordaos_2013)"
   ]
  },
  {
   "cell_type": "code",
   "execution_count": 7,
   "metadata": {},
   "outputs": [],
   "source": [
    "len_count_2013_buckets = {}\n",
    "len_count_2013 = []\n",
    "generate_count(acordaos_2013, len_count_2013_buckets, len_count_2013)"
   ]
  },
  {
   "cell_type": "code",
   "execution_count": 8,
   "metadata": {},
   "outputs": [],
   "source": [
    "write_count_buckets_file('data/len_count/2013_count.json', len_count_2013_buckets)\n",
    "write_count_file(len_count_2013)"
   ]
  },
  {
   "cell_type": "markdown",
   "metadata": {},
   "source": [
    "#### Acórdãos 2014"
   ]
  },
  {
   "cell_type": "code",
   "execution_count": 6,
   "metadata": {},
   "outputs": [
    {
     "name": "stderr",
     "output_type": "stream",
     "text": [
      "189303it [17:01, 185.35it/s]\n"
     ]
    }
   ],
   "source": [
    "acordaos_2014 = []\n",
    "read_registers_file('data/parsed_registers/2014.jsonl', acordaos_2014)"
   ]
  },
  {
   "cell_type": "code",
   "execution_count": 7,
   "metadata": {},
   "outputs": [],
   "source": [
    "len_count_2014_buckets = {}\n",
    "len_count_2014 = []\n",
    "generate_count(acordaos_2014, len_count_2014_buckets, len_count_2014)"
   ]
  },
  {
   "cell_type": "code",
   "execution_count": 8,
   "metadata": {},
   "outputs": [],
   "source": [
    "write_count_buckets_file('data/len_count/2014_count.json', len_count_2014_buckets)\n",
    "write_count_file(len_count_2014)"
   ]
  },
  {
   "cell_type": "markdown",
   "metadata": {},
   "source": [
    "#### Acórdãos 2016"
   ]
  },
  {
   "cell_type": "code",
   "execution_count": 6,
   "metadata": {},
   "outputs": [
    {
     "name": "stderr",
     "output_type": "stream",
     "text": [
      "164771it [13:27, 203.96it/s] \n"
     ]
    }
   ],
   "source": [
    "acordaos_2016 = []\n",
    "read_registers_file('data/parsed_registers/2016.jsonl', acordaos_2016)"
   ]
  },
  {
   "cell_type": "code",
   "execution_count": 7,
   "metadata": {},
   "outputs": [],
   "source": [
    "len_count_2016_buckets = {}\n",
    "len_count_2016 = []\n",
    "generate_count(acordaos_2016, len_count_2016_buckets, len_count_2016)"
   ]
  },
  {
   "cell_type": "code",
   "execution_count": 8,
   "metadata": {},
   "outputs": [],
   "source": [
    "write_count_buckets_file('data/len_count/2016_count.json', len_count_2016_buckets)\n",
    "write_count_file(len_count_2016)"
   ]
  },
  {
   "cell_type": "markdown",
   "metadata": {},
   "source": [
    "### Todos os anos"
   ]
  },
  {
   "cell_type": "code",
   "execution_count": 37,
   "metadata": {},
   "outputs": [],
   "source": [
    "json_list = glob.glob('data/len_count/*.json')"
   ]
  },
  {
   "cell_type": "code",
   "execution_count": 52,
   "metadata": {},
   "outputs": [],
   "source": [
    "final_len_count = {}\n",
    "for file in json_list:\n",
    "    try:\n",
    "        with open(file, 'r') as f:\n",
    "            data = json.load(f)\n",
    "            for key in data.keys():\n",
    "                formatted_key = key.zfill(4)\n",
    "                if formatted_key in final_len_count.keys():\n",
    "                    final_len_count[formatted_key] += data[key]\n",
    "                else:\n",
    "                    final_len_count[formatted_key] = data[key]\n",
    "    except Exception as e:\n",
    "        print(e)"
   ]
  },
  {
   "cell_type": "markdown",
   "metadata": {},
   "source": [
    "### Gerando json com os resultados"
   ]
  },
  {
   "cell_type": "code",
   "execution_count": 111,
   "metadata": {},
   "outputs": [],
   "source": [
    "with open('data/len_count/all_count.json', 'w') as writer:\n",
    "    write_data = json.dumps(final_len_count)\n",
    "    writer.write(write_data)"
   ]
  }
 ],
 "metadata": {
  "kernelspec": {
   "display_name": "Python 3",
   "language": "python",
   "name": "python3"
  },
  "language_info": {
   "codemirror_mode": {
    "name": "ipython",
    "version": 3
   },
   "file_extension": ".py",
   "mimetype": "text/x-python",
   "name": "python",
   "nbconvert_exporter": "python",
   "pygments_lexer": "ipython3",
   "version": "3.6.8"
  }
 },
 "nbformat": 4,
 "nbformat_minor": 2
}
