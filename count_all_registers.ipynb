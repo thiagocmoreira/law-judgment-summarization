{
 "cells": [
  {
   "cell_type": "markdown",
   "metadata": {},
   "source": [
    "## Contagem de acórdãos em cada ano"
   ]
  },
  {
   "cell_type": "code",
   "execution_count": 19,
   "metadata": {},
   "outputs": [],
   "source": [
    "import glob\n",
    "import jsonlines"
   ]
  },
  {
   "cell_type": "code",
   "execution_count": 20,
   "metadata": {},
   "outputs": [],
   "source": [
    "json_list = glob.glob('*.jsonl')\n",
    "json_list\n",
    "json_list.sort()"
   ]
  },
  {
   "cell_type": "code",
   "execution_count": 21,
   "metadata": {},
   "outputs": [],
   "source": [
    "all_count = 0\n",
    "def count_registers(path):\n",
    "    global all_count\n",
    "    count = 0\n",
    "    with jsonlines.open(path) as reader:\n",
    "        for obj in reader:\n",
    "            count += 1\n",
    "            all_count += 1\n",
    "    print(path, '->', count, 'registros')"
   ]
  },
  {
   "cell_type": "code",
   "execution_count": 22,
   "metadata": {},
   "outputs": [
    {
     "name": "stdout",
     "output_type": "stream",
     "text": [
      "2010.jsonl -> 157824 registros\n",
      "2011.jsonl -> 171255 registros\n",
      "2012.jsonl -> 146400 registros\n",
      "2013.jsonl -> 167940 registros\n",
      "2014.jsonl -> 189303 registros\n",
      "2016.jsonl -> 164771 registros\n",
      "2017.jsonl -> 157183 registros\n",
      "2018.jsonl -> 138999 registros\n",
      "2019.jsonl -> 72261 registros\n",
      "Total -> 1365936 registros\n"
     ]
    }
   ],
   "source": [
    "for year in json_list:\n",
    "    count_registers(year)\n",
    "print('Total ->', all_count, 'registros')"
   ]
  },
  {
   "cell_type": "code",
   "execution_count": null,
   "metadata": {},
   "outputs": [],
   "source": []
  }
 ],
 "metadata": {
  "kernelspec": {
   "display_name": "Python 3",
   "language": "python",
   "name": "python3"
  },
  "language_info": {
   "codemirror_mode": {
    "name": "ipython",
    "version": 3
   },
   "file_extension": ".py",
   "mimetype": "text/x-python",
   "name": "python",
   "nbconvert_exporter": "python",
   "pygments_lexer": "ipython3",
   "version": "3.6.8"
  }
 },
 "nbformat": 4,
 "nbformat_minor": 2
}
