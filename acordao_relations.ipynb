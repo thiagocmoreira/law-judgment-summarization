{
 "cells": [
  {
   "cell_type": "markdown",
   "metadata": {},
   "source": [
    "## Verificando relação entre o inteiro teor e a ementa"
   ]
  },
  {
   "cell_type": "code",
   "execution_count": 1,
   "metadata": {},
   "outputs": [],
   "source": [
    "import glob\n",
    "import jsonlines\n",
    "import random\n",
    "from tqdm import tqdm\n",
    "from syntok.tokenizer import Tokenizer"
   ]
  },
  {
   "cell_type": "code",
   "execution_count": 2,
   "metadata": {},
   "outputs": [
    {
     "data": {
      "text/plain": [
       "['data/final_features/2013_final.jsonl',\n",
       " 'data/final_features/2010_final.jsonl',\n",
       " 'data/final_features/2016_final.jsonl',\n",
       " 'data/final_features/2012_final.jsonl',\n",
       " 'data/final_features/2011_final.jsonl',\n",
       " 'data/final_features/2014_final.jsonl']"
      ]
     },
     "execution_count": 2,
     "metadata": {},
     "output_type": "execute_result"
    }
   ],
   "source": [
    "json_list = glob.glob('data/final_features/*.jsonl')\n",
    "json_list"
   ]
  },
  {
   "cell_type": "code",
   "execution_count": 3,
   "metadata": {},
   "outputs": [
    {
     "data": {
      "text/plain": [
       "'data/final_features/2010_final.jsonl'"
      ]
     },
     "execution_count": 3,
     "metadata": {},
     "output_type": "execute_result"
    }
   ],
   "source": [
    "selected_year = random.choice(json_list)\n",
    "selected_year"
   ]
  },
  {
   "cell_type": "code",
   "execution_count": 4,
   "metadata": {},
   "outputs": [
    {
     "name": "stderr",
     "output_type": "stream",
     "text": [
      "130534it [00:22, 5805.08it/s]\n"
     ]
    }
   ],
   "source": [
    "acordaos = []\n",
    "with jsonlines.open(selected_year) as reader:\n",
    "    for acordao in tqdm(reader):\n",
    "        acordaos.append(acordao)"
   ]
  },
  {
   "cell_type": "code",
   "execution_count": 5,
   "metadata": {},
   "outputs": [],
   "source": [
    "tok = Tokenizer()"
   ]
  },
  {
   "cell_type": "code",
   "execution_count": 6,
   "metadata": {},
   "outputs": [
    {
     "name": "stderr",
     "output_type": "stream",
     "text": [
      "100%|██████████| 130534/130534 [23:58<00:00, 90.75it/s] \n"
     ]
    }
   ],
   "source": [
    "check_count = []\n",
    "for ac in tqdm(acordaos):\n",
    "    inteiro_teor = ac['inteiro_teor'].lower().replace(ac['ementa'].lower(), '')\n",
    "    inteiro_teor_tokens = []\n",
    "    ementa_tokens = []\n",
    "    for token in tok.tokenize(inteiro_teor.lower()):\n",
    "        inteiro_teor_tokens.append(token.value)\n",
    "    for token in tok.tokenize(ac['ementa'].lower()):\n",
    "        ementa_tokens.append(token.value)\n",
    "\n",
    "    count = 0\n",
    "    for tk in ementa_tokens:\n",
    "        if tk in inteiro_teor_tokens:\n",
    "            count += 1\n",
    "    percentage = (count/len(ementa_tokens)) * 100\n",
    "    check_count.append(percentage)"
   ]
  },
  {
   "cell_type": "code",
   "execution_count": 7,
   "metadata": {},
   "outputs": [],
   "source": [
    "from numpy import mean"
   ]
  },
  {
   "cell_type": "code",
   "execution_count": 8,
   "metadata": {},
   "outputs": [
    {
     "data": {
      "text/plain": [
       "90.62745274467238"
      ]
     },
     "execution_count": 8,
     "metadata": {},
     "output_type": "execute_result"
    }
   ],
   "source": [
    "print('Média de tokens da ementa presentes 'mean(check_count))"
   ]
  },
  {
   "cell_type": "code",
   "execution_count": null,
   "metadata": {},
   "outputs": [],
   "source": []
  }
 ],
 "metadata": {
  "kernelspec": {
   "display_name": "Python 3",
   "language": "python",
   "name": "python3"
  },
  "language_info": {
   "codemirror_mode": {
    "name": "ipython",
    "version": 3
   },
   "file_extension": ".py",
   "mimetype": "text/x-python",
   "name": "python",
   "nbconvert_exporter": "python",
   "pygments_lexer": "ipython3",
   "version": "3.6.8"
  }
 },
 "nbformat": 4,
 "nbformat_minor": 2
}
