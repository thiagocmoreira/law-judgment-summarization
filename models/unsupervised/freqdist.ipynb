{
 "cells": [
  {
   "cell_type": "code",
   "execution_count": 1,
   "metadata": {},
   "outputs": [],
   "source": [
    "import pandas as pd\n",
    "from tqdm import tqdm\n",
    "import nltk"
   ]
  },
  {
   "cell_type": "code",
   "execution_count": 2,
   "metadata": {},
   "outputs": [],
   "source": [
    "# nltk.download('punkt')\n",
    "# nltk.download('stopwords')"
   ]
  },
  {
   "cell_type": "code",
   "execution_count": 3,
   "metadata": {},
   "outputs": [],
   "source": [
    "acordaos = pd.read_csv('validate-400-2500.csv', encoding='utf-8', error_bad_lines=False, engine=\"python\")"
   ]
  },
  {
   "cell_type": "code",
   "execution_count": 4,
   "metadata": {},
   "outputs": [
    {
     "data": {
      "text/html": [
       "<div>\n",
       "<style scoped>\n",
       "    .dataframe tbody tr th:only-of-type {\n",
       "        vertical-align: middle;\n",
       "    }\n",
       "\n",
       "    .dataframe tbody tr th {\n",
       "        vertical-align: top;\n",
       "    }\n",
       "\n",
       "    .dataframe thead th {\n",
       "        text-align: right;\n",
       "    }\n",
       "</style>\n",
       "<table border=\"1\" class=\"dataframe\">\n",
       "  <thead>\n",
       "    <tr style=\"text-align: right;\">\n",
       "      <th></th>\n",
       "      <th>ementa</th>\n",
       "      <th>inteiro_teor</th>\n",
       "    </tr>\n",
       "  </thead>\n",
       "  <tbody>\n",
       "    <tr>\n",
       "      <th>0</th>\n",
       "      <td>agravo de instrumento em recurso de revista – ...</td>\n",
       "      <td>a c ó r d ã o\\n\\n(ac. (8ª turma) gmmea/mtr/mas...</td>\n",
       "    </tr>\n",
       "    <tr>\n",
       "      <th>1</th>\n",
       "      <td>embargos de declaração. acolhimento para prest...</td>\n",
       "      <td>a c ó r d ã o\\n\\n(ac. sdi-1) bp/lc \\n\\nvistos,...</td>\n",
       "    </tr>\n",
       "    <tr>\n",
       "      <th>2</th>\n",
       "      <td>agravo de instrumento em recurso de revista – ...</td>\n",
       "      <td>acórdão\\n\\n1ª turma vmf/rej/pcp/wmc \\n\\nvistos...</td>\n",
       "    </tr>\n",
       "    <tr>\n",
       "      <th>3</th>\n",
       "      <td>agravo de instrumento. recurso de revista. emb...</td>\n",
       "      <td>acórdão\\n\\n4ª turma gmfeo/gs/cjj \\n\\nvistos, r...</td>\n",
       "    </tr>\n",
       "    <tr>\n",
       "      <th>4</th>\n",
       "      <td>agravo de instrumento.\\n\\nnega-se provimento a...</td>\n",
       "      <td>a c ó r d ã o\\n\\n(ac. (5ª turma) bp/cr \\n\\nvis...</td>\n",
       "    </tr>\n",
       "  </tbody>\n",
       "</table>\n",
       "</div>"
      ],
      "text/plain": [
       "                                              ementa  \\\n",
       "0  agravo de instrumento em recurso de revista – ...   \n",
       "1  embargos de declaração. acolhimento para prest...   \n",
       "2  agravo de instrumento em recurso de revista – ...   \n",
       "3  agravo de instrumento. recurso de revista. emb...   \n",
       "4  agravo de instrumento.\\n\\nnega-se provimento a...   \n",
       "\n",
       "                                        inteiro_teor  \n",
       "0  a c ó r d ã o\\n\\n(ac. (8ª turma) gmmea/mtr/mas...  \n",
       "1  a c ó r d ã o\\n\\n(ac. sdi-1) bp/lc \\n\\nvistos,...  \n",
       "2  acórdão\\n\\n1ª turma vmf/rej/pcp/wmc \\n\\nvistos...  \n",
       "3  acórdão\\n\\n4ª turma gmfeo/gs/cjj \\n\\nvistos, r...  \n",
       "4  a c ó r d ã o\\n\\n(ac. (5ª turma) bp/cr \\n\\nvis...  "
      ]
     },
     "execution_count": 4,
     "metadata": {},
     "output_type": "execute_result"
    }
   ],
   "source": [
    "acordaos.head()"
   ]
  },
  {
   "cell_type": "code",
   "execution_count": 5,
   "metadata": {},
   "outputs": [],
   "source": [
    "from nltk.tokenize import word_tokenize\n",
    "from nltk.tokenize import sent_tokenize\n",
    "from nltk.corpus import stopwords\n",
    "from string import punctuation\n",
    "from nltk.probability import FreqDist\n",
    "from collections import defaultdict\n",
    "from heapq import nlargest"
   ]
  },
  {
   "cell_type": "code",
   "execution_count": 6,
   "metadata": {},
   "outputs": [],
   "source": [
    "stopwords = set(stopwords.words('portuguese') + list(punctuation))"
   ]
  },
  {
   "cell_type": "code",
   "execution_count": 7,
   "metadata": {},
   "outputs": [],
   "source": [
    "def get_text_summary(text, phrases_quantity = 4):\n",
    "    phrases = sent_tokenize(text)\n",
    "    words = word_tokenize(text.lower())\n",
    "    valid_words = [word for word in words if word not in stopwords]\n",
    "    freq = FreqDist(valid_words)\n",
    "    \n",
    "    important_phrases = defaultdict(int)\n",
    "    \n",
    "    for i, phrase in enumerate(phrases):\n",
    "        for word in word_tokenize(phrase.lower()):\n",
    "            if word in freq:\n",
    "                important_phrases[i] += freq[word]\n",
    "                \n",
    "    important_phrases_indexes = nlargest(phrases_quantity, important_phrases, important_phrases.get)\n",
    "    \n",
    "    summary = []\n",
    "    for i in sorted(important_phrases_indexes):\n",
    "        summary.append(phrases[i])\n",
    "        \n",
    "    return ''.join(summary)"
   ]
  },
  {
   "cell_type": "code",
   "execution_count": 8,
   "metadata": {},
   "outputs": [],
   "source": [
    "def generate_summaries(texts):\n",
    "    summaries = []\n",
    "    for text in tqdm(texts):\n",
    "        summaries.append(get_text_summary(text, 3))\n",
    "    \n",
    "    return summaries"
   ]
  },
  {
   "cell_type": "code",
   "execution_count": null,
   "metadata": {},
   "outputs": [],
   "source": [
    "%%time\n",
    "generate_summaries(acordaos['inteiro_teor'].tolist())"
   ]
  },
  {
   "cell_type": "code",
   "execution_count": 12,
   "metadata": {},
   "outputs": [
    {
     "name": "stderr",
     "output_type": "stream",
     "text": [
      "100%|██████████| 2698/2698 [00:17<00:00, 156.12it/s]\n"
     ]
    }
   ],
   "source": [
    "acordaos_summarized = pd.DataFrame({ 'inteiro_teor': acordaos['inteiro_teor'].tolist(), 'ementa_original': acordaos['ementa'].tolist(), 'resumo_gerado': generate_summaries(acordaos['inteiro_teor'].tolist()) })\n",
    "acordaos_summarized.to_csv('predictions.csv')"
   ]
  },
  {
   "cell_type": "code",
   "execution_count": 17,
   "metadata": {},
   "outputs": [
    {
     "name": "stdout",
     "output_type": "stream",
     "text": [
      "Exemplo 10 \n",
      "\n",
      "Ementa original: agravo de instrumento em recurso de revista - procedimento sumaríssimo. enquadramento sindical. art. 896, § 6º, da clt. nas causas sujeitas ao procedimento sumaríssimo, somente será admitido recurso de revista por contrariedade a súmula de jurisprudência uniforme do tribunal superior do trabalho e violação direta da constituição da república. agravo de instrumento a que se nega provimento. \n",
      "\n",
      "\n",
      "Sumário gerado: (8ª turma) gmmea/hagb/acnv  vistos, relatados e discutidos estes autos de agravo de instrumento em recurso de revista n° tst-airr-127740-66.2008.5.02.000, em que é agravante joyce de lima e são agravadas silva e silva advogados associados e cooperativa de trabalho dos profissionais de crédito e cobrança - cccoop.a agravante, reiterando as razões de seu recurso de revista, sustenta ser beneficiária da convenção coletiva dos operadores de telemarketing, vez que exercia na reclamada atividades congêneres.896, § 6º, da clt, tratando-se de causa sujeita ao procedimento sumaríssimo o cabimento do recurso de revista somente será admitido por contrariedade a súmula de jurisprudência do tst ou afronta direta à constituição da república. \n",
      "\n",
      "\n",
      "Exemplo 11 \n",
      "\n",
      "Ementa original: embargos de declaração. art. 897-a da clt.  não merecem provimento embargos de declaração, nos termos do art. 897-a, da clt, se correto o acórdão embargado ao concluir pelo não-conhecimento do agravo de instrumento, haja vista o não-preenchimento dos pressupostos extrínsecos do recurso. embargos de declaração não providos. \n",
      "\n",
      "\n",
      "Sumário gerado: a c ó r d ã o (6ª turma) gmmgd/ja/jr  vistos, relatados e discutidos estes autos de embargos de declaração em agravo de instrumento em recurso de revista n° tst-ed-airr-82640-60.2001.5.02.002, em que é embargante eletropaulo - metropolitana eletricidade de são paulo s.a. e embargado joão batista ferreira.6ª turma, por meio do acórdão ora embargado, não conheceu do agravo de instrumento interposto pela reclamada, haja vista o traslado incompleto da decisão denegatória de seguimento do recurso de revista.ainda que se entenda pela suficiência da fotocópia da decisão denegatória de seguimento do recurso de revista trazida aos autos, ainda assim o agravo de instrumento não merece conhecimento, por deficiência de traslado, porquanto a parte não trouxe cópia alusiva à certidão de publicação da decisão denegatória de seguimento do recurso de revista, conforme exige o § 5º, i, do art. \n",
      "\n",
      "\n",
      "Exemplo 12 \n",
      "\n",
      "Ementa original: agravo de instrumento. prescrição, solidariedade das reclamadas e complementação de aposentadoria.  diante da decisão proferida no recurso de revista da cef, que examinou todas estas matérias, tendo, inclusive, julgado improcedente a ação que pleiteava diferenças de complementação de aposentadoria, mostra-se prejudicada a análise deste apelo. \n",
      "\n",
      "\n",
      "Sumário gerado: acórdão 6ª turma acv/mgf/b  vistos, relatados e discutidos estes autos de agravo de instrumento em recurso de revista n° tst-airr-86340-52.2007.5.04.000, em que é agravante fundação dos economiários federais - funcef e agravado misedi kupske e caixa econômica federal - cef.ii – mérito diante da decisão proferida no recurso de revista da cef que corre junto a este, e que examinou todas as matérias objeto deste recurso (prescrição, solidariedade entre as reclamadas e complementação de aposentadoria), tendo, inclusive, julgado improcedente a ação no tocante à complementação de aposentadoria, mostra-se prejudicada a análise deste apelo.isto posto acordam os ministros da sexta turma do tribunal superior do trabalho, por unanimidade, declarar prejudicado o julgamento do agravo de instrumento. \n",
      "\n",
      "\n",
      "Exemplo 13 \n",
      "\n",
      "Ementa original: agravo de instrumento. recurso de revista. irregularidade na formação do instrumento. insuficiência de traslado. falta de peças essenciais. não se conhece de agravo de instrumento quando não contiver a cópia das peças essenciais à sua formação, conforme o item iii da instrução normativa nº 16/99 do tst. agravo de instrumento de que não se conhece. \n",
      "\n",
      "\n",
      "Sumário gerado: falta de peças essenciais o agravo de instrumento não preenche requisito para conhecimento, tendo em vista que a agravante não juntou aos autos a cópia da certidão de publicação do acórdão dos embargos de declaração proferido pelo tribunal regional do trabalho.(omissis) § 5º - sob pena de não conhecimento, as partes promoverão a formação do instrumento do agravo de modo a possibilitar, caso provido, o imediato julgamento do recurso denegado, instruindo a petição de interposição: i - obrigatoriamente, com cópias da decisão agravada, da certidão da respectiva intimação, das procurações outorgadas aos advogados do agravante e do agravado, da petição inicial, da contestação, da decisão originária, da comprovação do depósito recursal e do recolhimento das custas; ii - facultativamente, com outras peças que o agravante reputar úteis ao deslinde da matéria de mérito controvertida.[grifos nossos] destaque-se que a instrução normativa nº 16 deste tribunal, de 3.9.1999, em seu item x, atribui às partes a responsabilidade de zelar pela correta formação do instrumento, estabelecendo o impedimento de conversão do agravo em diligência, para suprir a falta de peças, ainda que essenciais. \n",
      "\n",
      "\n",
      "Exemplo 14 \n",
      "\n",
      "Ementa original: embargos de declaração. descabimento.  opostos à deriva das situações a que se referem os arts. 535, incisos i e ii, do cpc e 897-a e parágrafo único, da clt, rejeitados são os embargos de declaração. \n",
      "\n",
      "\n",
      "Sumário gerado: a c ó r d ã o (3ª turma) gmalb/rhs/abn/mn  vistos, relatados e discutidos estes autos de embargos de declaração em recurso de revista n° tst-ed-rr-130740-02.2007.5.02.000, em que são embargantes neide de morais zuppo e outras e embargada caixa econômica federal - cef.corte se manifestou expressamente sobre os temas elencados pela parte em recurso de revista, afastando a tese regional e dando provimento ao recurso para deferir o pagamento da parcela auxílio - alimentação, restabelecendo a sentença, no particular.noto que, ao contrário do que alega a parte, inexiste pedido formulado na petição inicial quanto ao pagamento da 13ª parcela do auxílio - alimentação (talonário extra), tampouco insurgência em suas razões de recurso de revista. \n",
      "\n",
      "\n",
      "Exemplo 15 \n",
      "\n",
      "Ementa original: embargos de declaração em recurso de revista – omissão - inexistência.  se o acórdão embargado não contempla nenhum defeito dentre os enumerados no art. 535, i e ii, do cpc, a medida contra ele intentada, que, inegavelmente, persegue novo julgamento da matéria, não enseja provimento. embargos de declaração desprovidos. \n",
      "\n",
      "\n",
      "Sumário gerado: acórdão 1ª turma vmf/cm/sc/a  vistos, relatados e discutidos estes autos de embargos de declaração em recurso de revista n° tst-ed-rr-89100-47.2003.5.04.002, em que é embargante rosângela maria pereira e embargadas porto alegre clínicas s/c ltda., weingaertner comércio e administração ltda.a reclamante, a título de omissão, sustenta que a súmula nº 126 do tst não se aplica à hipótese dos autos, pois a transferência da carteira de clientes constitui fato incontroverso.em face disso, torna-se necessário o exame de tais elementos probatórios, a fim de se aferir se a mencionada transferência afigura-se suficiente, ou não, para representar o trespasse de parte significativa da unidade econômico-produtiva de uma ré para a outra, o que faz que a admissibilidade do apelo extraordinário esbarre no disposto na súmula nº 126 do tst. \n",
      "\n",
      "\n",
      "Exemplo 16 \n",
      "\n",
      "Ementa original: agravo de instrumento. recurso de revista. mudança de regime jurídico. publicação da lei municipal. aresto inservível para configuração do dissenso pretoriano. inteligência do art. 896, a, da clt.  inservível o aresto colacionado para configuração da divergência jurisprudencial, porquanto proveniente de turma do tst. inteligência do art. 896, a, da clt.  a gravo de instrumento desprovido. \n",
      "\n",
      "\n",
      "Sumário gerado: a c ó r d ã o (6ª turma) gmmgd/me/jr  vistos, relatados e discutidos estes autos de agravo de instrumento em recurso de revista n° tst-airr-131640-81.2008.5.21.002, em que é agravante município de lagoa de pedras e agravada maria josilene de oliveira.896, a, da clt na revista, o reclamado insurge-se contra o tema regime jurídico único – publicação da lei municipal.isto posto acordam os ministros da sexta turma do tribunal superior do trabalho, por unanimidade, negar provimento ao agravo de instrumento. \n",
      "\n",
      "\n",
      "Exemplo 17 \n",
      "\n",
      "Ementa original: agravo de instrumento em recurso de revista. irregularidade de formação. ausência de autenticação das peças trasladadas.  não merece ser conhecido o agravo de instrumento, quando as cópias das peças trasladadas pelo agravante não se encontram autenticadas, em descompasso com as determinações do art. 830 da clt. agravo de instrumento não conhecido. \n",
      "\n",
      "\n",
      "Sumário gerado: 4.ª turma) gmmac/r3/fgfl/gn  vistos, relatados e discutidos estes autos de agravo de instrumento em recurso de revista n.º tst-airr-129040-60.2005.5.04.002, em que é agravante marli oliveira belladona e são agravados caixa econômica federal - cef e fundação dos economiários federais - funcef.voto conhecimento o presente agravo de instrumento não deve ultrapassar a barreira do conhecimento ante a irregularidade de sua formação, tendo em vista que as cópias trasladadas não se encontram autenticadas, em descompasso com as determinações do art.cediço que cumpre à parte velar pela correta formação do agravo de instrumento, não comportando a omissão em conversão do agravo em diligência para suprir eventuais ausências, nos termos do item x da instrução normativa n.º 16 do tst. \n",
      "\n",
      "\n",
      "Exemplo 18 \n",
      "\n",
      "Ementa original: agravo de instrumento. recurso de revista.  traslado deficiente. ausência de cópia do acórdão regional. peça indispensável para o imediato julgamento do recurso denegado. agravo de instrumento instruído em desconformidade com o disposto no art. 897, § 5º, i, da clt. agravo de instrumento de que não se conhece. \n",
      "\n",
      "\n",
      "Sumário gerado: acórdão 4ª turma gmfeo/ds  vistos, relatados e discutidos estes autos de agravo de instrumento em recurso de revista n° tst-airr-84041-27.2006.5.04.000, em que é agravante joão carlos araújo fonseca e agravada vonpar refrescos s.a. o tribunal regional do trabalho da quarta região denegou seguimento ao recurso de revista interposto pelo reclamante, o que ensejou a interposição do presente agravo de instrumento.a ausência da referida peça processual impede a verificação do teor da decisão regional, impossibilitando o julgamento imediato do recurso de revista, caso fosse provido o agravo de instrumento.destaque-se que, na instrução normativa nº 16 deste tribunal, de 13/09/1999, em seu item x, atribui-se às partes a responsabilidade de velar pela correta formação do instrumento, estabelecendo-se o impedimento de conversão do agravo em diligência, para suprir a ausência de peças, ainda que essenciais. \n",
      "\n",
      "\n",
      "Exemplo 19 \n",
      "\n",
      "Ementa original: embargos de declaração. intempestividade.  não se conhece de embargos de declaração interpostos via fac-símile, quando protocolizados os originais após o fluxo do prazo a que alude o art. 2º da lei nº 9.800/99 (súmula nº 387/tst). embargos de declaração não conhecidos. \n",
      "\n",
      "\n",
      "Sumário gerado: 3ª turma) gmalb/mjsr/abn/mki  vistos, relatados e discutidos estes autos de embargos de declaração em recurso de revista n° tst-ed-rr-117400-61.2008.5.04.002, em que é embargante go bank serviços e factoring ltda.nos termos do item iii da súmula nº 387 desta corte,  não se tratando a juntada dos originais de ato que dependa de notificação, pois a parte, ao interpor o recurso, já tem ciência do seu ônus processual, não se aplica a regra do art.desta forma, apresentado o recurso, via fax, em 24.9.2010 (último dia do prazo), o período de cinco dias para apresentação do original teve início no dia seguinte (25.9.2010), encerrando-se em 29.9.2010. os embargos de declaração são intempestivos. \n",
      "\n",
      "\n",
      "Exemplo 20 \n",
      "\n",
      "Ementa original: agravo – preliminar de nulidade por negativa de prestação jurisidicional a decisão agravada foi proferida em estrita observância aos artigos 896, § 5º, da clt, 557, caput, do cpc e 5º, lxxviii, da constituição, razão pela qual é insuscetível de reforma ou reconsideração. agravo a que se nega provimento. \n",
      "\n",
      "\n",
      "Sumário gerado: 8ª turma gmmcp/alw/rom  vistos, relatados e discutidos estes autos de agravo em agravo de instrumento em recurso de revista n° tst-ag-airr-191240-78.2001.5.02.002, em que é agravante telecomunicações de são paulo s.a. - telesp e agravado élvio carlos zanoni.401 negou seguimento ao agravo de instrumento da reclamada com fundamento nos artigos 896, § 5º, da clt, 557, caput, do cpc e 5º, lxxviii, da constituição da república.em agravo, a ré alega que o despacho que negou seguimento ao agravo de instrumento carece de fundamentação, o que importa em negativa de prestação jurisdicional. \n",
      "\n",
      "\n",
      "Exemplo 21 \n",
      "\n",
      "Ementa original: agravo de instrumento em recurso de revista. considerando que foi dado provimento ao recurso de revista do reclamado para, afastado o óbice da deserção, determinar o retorno dos autos ao regional para apreciação do recurso ordinário do empregador, como entender de direito, está prejudicado o julgamento do presente agravo de instrumento.  agravo de instrumento prejudicado. \n",
      "\n",
      "\n",
      "Sumário gerado: 4.ª turma) gmmac/r3/cmf/gri  vistos, relatados e discutidos estes autos de agravo de instrumento em recurso de revista n.º tst-airr-172340-63.2006.5.01.046, em que é agravante união (pgf) e são agravados sebastião de souza lima e joão batista paulino de paiva.140/142, a qual denegou seguimento ao recurso de revista, a união – terceira interessada - interpõe agravo de instrumento, a fls.2 – mérito considerando que foi dado provimento ao recurso de revista do reclamado (corre junto – airr-172341-48.2006.5.01.0461) para, afastado o óbice da deserção, determinar o retorno dos autos ao regional para que aprecie o recurso ordinário do reclamado, como entender de direito, fica prejudicado o exame do presente recurso de revista. \n",
      "\n",
      "\n",
      "Exemplo 22 \n",
      "\n",
      "Ementa original: embargos de declaração. descabimento. interpostos à deriva das situações a que se referem os arts. 535, incisos i e ii, do cpc e 897-a e parágrafo único, da clt, rejeitados são os embargos de declaração. \n",
      "\n",
      "\n",
      "Sumário gerado: (3ª turma) gmalb/as/abn/mn  vistos, relatados e discutidos estes autos de embargos de declaração em recurso de revista n° tst-ed-rr-770600-19.2005.5.09.001, em que é embargante hsbc bank brasil s.a. - banco múltiplo e outro e embargada lisa mara cristoff netipanyj.noto que a parte busca, na verdade, por via imprópria, rediscutir matéria decidida, revelando seu inconformismo, e, pretendendo, a toda evidência, a reforma da decisão que lhe foi desfavorável, para impor a visão que ele próprio tem do caso, fim a que não se prestam os embargos de declaração.ressalte-se que os embargos de declaração não autorizam o estabelecimento de diálogo entre as partes e o órgão jurisdicional, nunca viabilizando a modificação da substância do julgado, quando ausentes os vícios que a lei, exaustivamente, enumera. \n",
      "\n",
      "\n",
      "Exemplo 23 \n",
      "\n",
      "Ementa original: agravo de instrumento em recurso de revista adesivo. recurso principal não admitido.  prejudicado o exame do agravo de instrumento do reclamante, em face do desprovimento do agravo de instrumento da reclamada, interposto em sede de recurso de revista principal, nos termos do art. 500, inciso iii, do cpc. \n",
      "\n",
      "\n",
      "Sumário gerado: 8ª turma) gmmea /rh  vistos, relatados e discutidos estes autos de agravo de instrumento em recurso de revista n° tst-airr-5141-96.2003.5.15.001, em que é agravante adriano ribeiro e agravado telecomunicações de são paulo s.a. - telesp.assim, a manutenção da denegação do seguimento do recurso de revista da reclamada (principal) por esta oitava turma, implica a necessária inadmissão do recurso de revista adesivo, e, por conseguinte, prejudica o exame do agravo de instrumento interposto pelo reclamante, nos termos do art.isto posto acordam os ministros da oitava turma do tribunal superior do trabalho, por unanimidade, julgar prejudicada a análise do agravo de instrumento em recurso de revista adesivo do reclamante, à luz do artigo 500, iii, do cpc. \n",
      "\n",
      "\n",
      "Exemplo 24 \n",
      "\n",
      "Ementa original: embargos de declaração. omissão. hipótese em que não fica caracterizada.  a inexistência no v. julgado de omissão, contradição ou obscuridade nos exatos termos do artigo 535 do código de processo civil, conduz à rejeição dos embargos de declaração. \n",
      "\n",
      "\n",
      "Sumário gerado: aponta omissão e obscuridade quanto à análise das suscitadas violações do disposto nos artigos 896 e 74 da clt, bem como em relação ao pagamento das horas extraordinárias e reflexos.aponta omissão e obscuridade quanto à análise das suscitadas violações do disposto nos artigos 896 e 74 da clt, bem como em relação ao pagamento das horas extraordinárias e reflexos.não se depreende ainda qualquer omissão quanto à análise do artigo 74 da clt, bem como quanto ao pagamento das horas extraordinárias e reflexos, diante da delimitação do v. acórdão embargado de que a prova dos autos demonstrou que a reclamada se desincumbiu de comprovar os fatos impeditivos do direito da reclamante quanto ao registro de horário e ao pagamento de horas extraordinárias. \n",
      "\n",
      "\n",
      "Exemplo 25 \n",
      "\n",
      "Ementa original: agravo de instrumento. rito sumaríssimo. apelo desfundamentado. desprovimento. nas causas sujeitas ao procedimento sumaríssimo, somente será admitido recurso de revista por contrariedade a súmula de jurisprudência uniforme do tribunal superior do trabalho e/ou violação direta a dispositivos da constituição federal, a teor do disposto no artigo 896, § 6º, da clt. agravo desprovido. \n",
      "\n",
      "\n",
      "Sumário gerado: acórdão 6ª turma acv/rbb/s  vistos, relatados e discutidos estes autos de agravo de instrumento em recurso de revista n° tst-airr-222540-70.2009.5.11.001, em que é agravante arosuco aromas e sucos s.a. e agravado demetrios matos de oliveira.trata-se de recurso de revista interposto em processo sujeito ao procedimento sumaríssimo, somente podendo ser admitido se demonstrado contrariedade à súmula de jurisprudência uniforme do tribunal superior do trabalho e/ou violação direta a dispositivos da constituição federal, a teor do que trata o artigo 896, § 6º, da clt.ressalte-se que a indicação de ofensa a dispositivo constitucional apontada somente nas razões do agravo de instrumento constitui inovação recursal, situação não permitida nesta fase de natureza extraordinária. \n",
      "\n",
      "\n",
      "Exemplo 26 \n",
      "\n",
      "Ementa original: agravo. deficiência de traslado. o agravo de instrumento teve seu processamento denegado por deficiência do traslado ante a ausência de cópia integral do recurso de revista. no agravo regimental as agravantes não comprovaram a regularidade do traslado. logo, nega-se provimento ao recurso. agravo a que se nega provimento. \n",
      "\n",
      "\n",
      "Sumário gerado: 5ª turma) bp/cr  vistos, relatados e discutidos estes autos de agravo em agravo de instrumento em recurso de revista n° tst-ag-airr-115740-09.2005.5.03.010, em que são agravantes construtora centro oeste ltda.sustentam terem interposto o agravo de instrumento de forma regular, com cópia na íntegra da ação originária, e que a ausência de apenas uma folha do recurso de revista se afigura excessiva formalidade, o que não se amolda ao processo civil moderno.sustentam terem interposto o agravo de instrumento de forma regular, com cópia na íntegra da ação originária, e que a ausência de apenas uma folha do recurso de revista se afigura excessiva formalidade, o que não se amolda ao processo civil moderno. \n",
      "\n",
      "\n",
      "Exemplo 27 \n",
      "\n",
      "Ementa original: embargos de declaração. descabimento.  interpostos à deriva das situações a que se referem os arts. 535 do cpc e 897-a da clt, rejeitados são os embargos de declaração. embargos de declaração conhecidos e desprovidos. \n",
      "\n",
      "\n",
      "Sumário gerado: a c ó r d ã o (3ª turma) gmalb/deao/abn/mki  vistos, relatados e discutidos estes autos de embargos de declaração em embargos de declaração em agravo de instrumento em recurso de revista n° tst-ed-ed-airr-50240-91.2006.5.02.026, em que é embargante tredegar brasil indústria de plásticos ltda.há fundamentação suficiente no acórdão principal e no proferido em razão dos primeiros embargos aviados, restando expostas de forma clara as razões pelas quais esta turma afastou o inconformismo da parte.isto posto acordam os ministros da terceira turma do tribunal superior do trabalho, por unanimidade, conhecer e rejeitar os embargos de declaração. \n",
      "\n",
      "\n",
      "Exemplo 28 \n",
      "\n",
      "Ementa original: embargos de declaração em agravo de instrumento em recurso de revista. alteração do plano de cargos e salários. prescrição. ato único.  não verificado nenhum dos vícios elencados nos arts. 897-a da clt e 535 do cpc, os presentes embargos não têm como ser acolhidos.  embargos de declaração rejeitados. \n",
      "\n",
      "\n",
      "Sumário gerado: a c ó r d ã o (8ª turma) gmdmc/jm/dr/sm  vistos, relatados e discutidos estes autos de embargos de declaração em agravo de instrumento em recurso de revista n° tst-ed-airr-1240-93.2008.5.09.067, em que é embargante sindicato dos empregados em estabelecimentos bancários de arapoti e região e são embargadas caixa econômica federal - cef e fundação dos economiários federais - funcef.na hipótese vertente, o sindicato autor opõe embargos de declaração, arguindo a necessidade de prequestionamento do art.isto posto acordam os ministros da oitava turma do tribunal superior do trabalho, por unanimidade, rejeitar os embargos de declaração. \n",
      "\n",
      "\n",
      "Exemplo 29 \n",
      "\n",
      "Ementa original: agravo de instrumento. ausência de peças. traslado deficiente. não-conhecimento. não se conhece do agravo de instrumento quando não trasladadas, de forma completa, as peças nominadas no inciso i do § 5º do art. 897 da clt, bem como aquelas indispensáveis ao deslinde da matéria de mérito controvertida. agravo não conhecido. \n",
      "\n",
      "\n",
      "Sumário gerado: sob pena de não conhecimento, as partes promoverão a formação do instrumento do agravo de modo a possibilitar, caso provido, o imediato julgamento do recurso denegado,  o item iii da instrução normativa nº 16/99 assim dispõe: o agravo não será conhecido se o instrumento não contiver as peças necessárias para o julgamento do recurso denegado, incluindo a cópia do respectivo arrazoado e da comprovação de satisfação de todos os pressupostos extrínsecos do recurso principal.para tanto, as peças que o formam devem ser suficientes para que, nos próprios autos, estejam presentes os pressupostos de admissibilidade, tanto do agravo de instrumento quanto do recurso denegado.no presente caso, a agravante deixou de trasladar as cópias do acórdão regional, do recurso de revista, da procuração do advogado subscritor do recurso de revista, e do despacho agravado, peças obrigatórias e essenciais ao deslinde da controvérsia, logo, indispensáveis na formação do agravo de instrumento, a teor do que dispõem o § 5º do art. \n",
      "\n",
      "\n"
     ]
    }
   ],
   "source": [
    "generated_summaries = pd.read_csv('predictions.csv', encoding='utf-8', error_bad_lines=False, engine=\"python\")\n",
    "for index, row in generated_summaries[10:30].iterrows():\n",
    "    print(f'Exemplo {index}', '\\n')\n",
    "    print('Ementa original:', row['ementa_original'].replace('\\n\\n', ' '), '\\n\\n')\n",
    "    print('Sumário gerado:', row['resumo_gerado'].replace('\\n\\n', ' '), '\\n\\n')"
   ]
  },
  {
   "cell_type": "code",
   "execution_count": 19,
   "metadata": {},
   "outputs": [],
   "source": [
    "# !pip install rouge-score tqdm --user\n",
    "from tqdm import tqdm_notebook\n",
    "# import time\n",
    "from rouge_score import rouge_scorer, scoring\n",
    "from typing import List, Dict"
   ]
  },
  {
   "cell_type": "code",
   "execution_count": 20,
   "metadata": {},
   "outputs": [],
   "source": [
    "def chunks(lst, n):\n",
    "    for i in range(0, len(lst), n):\n",
    "        yield lst[i : i + n]"
   ]
  },
  {
   "cell_type": "code",
   "execution_count": 21,
   "metadata": {},
   "outputs": [],
   "source": [
    "rouge_keys = [\"rouge1\", \"rouge2\", \"rougeL\"]\n",
    "def calculate_rouge(output_lns: List[str], reference_lns: List[str]) -> Dict:\n",
    "    scorer = rouge_scorer.RougeScorer(rouge_keys, use_stemmer=True)\n",
    "    aggregator = scoring.BootstrapAggregator()\n",
    "\n",
    "    for reference_ln, output_ln in tqdm_notebook(zip(reference_lns, output_lns)):\n",
    "        scores = scorer.score(reference_ln, output_ln)\n",
    "        aggregator.add_scores(scores)\n",
    "\n",
    "    result = aggregator.aggregate()\n",
    "    return {k: v.mid.fmeasure for k, v in result.items()}"
   ]
  },
  {
   "cell_type": "code",
   "execution_count": 24,
   "metadata": {},
   "outputs": [],
   "source": [
    "generated_summaries = generated_summaries.drop(['Unnamed: 0'], axis=1)\n",
    "generated_summaries = generated_summaries.applymap(lambda x: x.replace('\\n\\n', ' '))"
   ]
  },
  {
   "cell_type": "code",
   "execution_count": 26,
   "metadata": {},
   "outputs": [
    {
     "data": {
      "application/vnd.jupyter.widget-view+json": {
       "model_id": "549f1f299e98421faf9ef99b557fdb76",
       "version_major": 2,
       "version_minor": 0
      },
      "text/plain": [
       "HBox(children=(IntProgress(value=1, bar_style='info', max=1), HTML(value='')))"
      ]
     },
     "metadata": {},
     "output_type": "display_data"
    },
    {
     "name": "stdout",
     "output_type": "stream",
     "text": [
      "\n"
     ]
    }
   ],
   "source": [
    "metrics = calculate_rouge(generated_summaries['ementa_original'], generated_summaries['resumo_gerado'])"
   ]
  },
  {
   "cell_type": "code",
   "execution_count": 27,
   "metadata": {},
   "outputs": [
    {
     "data": {
      "text/plain": [
       "{'rouge1': 0.3307905051657543,\n",
       " 'rouge2': 0.16685518365890264,\n",
       " 'rougeL': 0.23905559318934727}"
      ]
     },
     "execution_count": 27,
     "metadata": {},
     "output_type": "execute_result"
    }
   ],
   "source": [
    "metrics"
   ]
  },
  {
   "cell_type": "code",
   "execution_count": null,
   "metadata": {},
   "outputs": [],
   "source": []
  }
 ],
 "metadata": {
  "kernelspec": {
   "display_name": "Python 3",
   "language": "python",
   "name": "python3"
  },
  "language_info": {
   "codemirror_mode": {
    "name": "ipython",
    "version": 3
   },
   "file_extension": ".py",
   "mimetype": "text/x-python",
   "name": "python",
   "nbconvert_exporter": "python",
   "pygments_lexer": "ipython3",
   "version": "3.6.8"
  }
 },
 "nbformat": 4,
 "nbformat_minor": 2
}
