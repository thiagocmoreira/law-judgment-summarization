{
 "cells": [
  {
   "cell_type": "code",
   "execution_count": 6,
   "metadata": {},
   "outputs": [],
   "source": [
    "import glob\n",
    "import jsonlines\n",
    "import json\n",
    "from text_cleaner import clean_text\n",
    "from tqdm import tqdm\n",
    "import re"
   ]
  },
  {
   "cell_type": "code",
   "execution_count": 2,
   "metadata": {},
   "outputs": [],
   "source": [
    "path_list = glob.glob('data/parsed_registers/*.jsonl')"
   ]
  },
  {
   "cell_type": "code",
   "execution_count": 7,
   "metadata": {},
   "outputs": [
    {
     "data": {
      "text/plain": [
       "['data/parsed_registers/2010.jsonl',\n",
       " 'data/parsed_registers/2011.jsonl',\n",
       " 'data/parsed_registers/2012.jsonl',\n",
       " 'data/parsed_registers/2013.jsonl',\n",
       " 'data/parsed_registers/2014.jsonl',\n",
       " 'data/parsed_registers/2016.jsonl']"
      ]
     },
     "execution_count": 7,
     "metadata": {},
     "output_type": "execute_result"
    }
   ],
   "source": [
    "path_list = sorted(path_list)\n",
    "path_list"
   ]
  },
  {
   "cell_type": "code",
   "execution_count": null,
   "metadata": {},
   "outputs": [
    {
     "name": "stderr",
     "output_type": "stream",
     "text": [
      "4it [00:00, 34.45it/s]"
     ]
    },
    {
     "name": "stdout",
     "output_type": "stream",
     "text": [
      "Running 2010...\n"
     ]
    },
    {
     "name": "stderr",
     "output_type": "stream",
     "text": [
      "72857it [03:08, 171.42it/s]"
     ]
    }
   ],
   "source": [
    "reg = re.compile(r'([0-9]+)')\n",
    "for path in path_list:\n",
    "    with jsonlines.open(path) as reader:\n",
    "        year = reg.search(path).group(1)\n",
    "        try:\n",
    "            with open('data/final_features/' + year + '_final.jsonl', 'w') as writer:\n",
    "                print('Running ' + year + '...')\n",
    "                for obj in tqdm(reader):\n",
    "                    ementa = clean_text(obj['ementa'])\n",
    "                    if len(ementa) >= 200 and len(ementa) <= 1499:\n",
    "                        write_data = json.dumps({\n",
    "                            'ementa': ementa,\n",
    "                            'inteiro_teor': clean_text(obj['inteiro_teor'])\n",
    "                        })\n",
    "                        writer.write(write_data)\n",
    "                        writer.write('\\n')\n",
    "        except Exception as e:\n",
    "                    print(e)"
   ]
  },
  {
   "cell_type": "code",
   "execution_count": null,
   "metadata": {},
   "outputs": [],
   "source": []
  }
 ],
 "metadata": {
  "kernelspec": {
   "display_name": "Python 3",
   "language": "python",
   "name": "python3"
  },
  "language_info": {
   "codemirror_mode": {
    "name": "ipython",
    "version": 3
   },
   "file_extension": ".py",
   "mimetype": "text/x-python",
   "name": "python",
   "nbconvert_exporter": "python",
   "pygments_lexer": "ipython3",
   "version": "3.6.8"
  }
 },
 "nbformat": 4,
 "nbformat_minor": 2
}
