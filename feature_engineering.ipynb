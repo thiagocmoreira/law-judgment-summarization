{
 "cells": [
  {
   "cell_type": "code",
   "execution_count": 14,
   "metadata": {},
   "outputs": [],
   "source": [
    "import glob\n",
    "import jsonlines\n",
    "import json\n",
    "from text_cleaner import clean_text\n",
    "from tqdm import tqdm"
   ]
  },
  {
   "cell_type": "code",
   "execution_count": 4,
   "metadata": {},
   "outputs": [],
   "source": [
    "path_list = glob.glob('data/parsed_registers/*.jsonl')"
   ]
  },
  {
   "cell_type": "code",
   "execution_count": 9,
   "metadata": {},
   "outputs": [
    {
     "data": {
      "text/plain": [
       "['data/parsed_registers/2012.jsonl',\n",
       " 'data/parsed_registers/2011.jsonl',\n",
       " 'data/parsed_registers/2016.jsonl',\n",
       " 'data/parsed_registers/2010.jsonl',\n",
       " 'data/parsed_registers/2013.jsonl',\n",
       " 'data/parsed_registers/2014.jsonl']"
      ]
     },
     "execution_count": 9,
     "metadata": {},
     "output_type": "execute_result"
    }
   ],
   "source": [
    "path_list"
   ]
  },
  {
   "cell_type": "code",
   "execution_count": 15,
   "metadata": {},
   "outputs": [
    {
     "name": "stderr",
     "output_type": "stream",
     "text": [
      "157824it [06:32, 402.39it/s]\n"
     ]
    }
   ],
   "source": [
    "with jsonlines.open('data/parsed_registers/2010.jsonl') as reader:\n",
    "    try:\n",
    "        with open('data/final_features/final_2010.jsonl', 'w') as writer:\n",
    "            for obj in tqdm(reader):\n",
    "                ementa = clean_text(obj['ementa'])\n",
    "                if len(ementa) >= 200 and len(ementa) <= 1199:\n",
    "                    write_data = json.dumps({\n",
    "                        'ementa': ementa,\n",
    "                        'inteiro_teor': clean_text(obj['inteiro_teor'])\n",
    "                    })\n",
    "                    writer.write(write_data)\n",
    "                    writer.write('\\n')\n",
    "    except Exception as e:\n",
    "                print(e)"
   ]
  },
  {
   "cell_type": "code",
   "execution_count": null,
   "metadata": {},
   "outputs": [],
   "source": []
  }
 ],
 "metadata": {
  "kernelspec": {
   "display_name": "Python 3",
   "language": "python",
   "name": "python3"
  },
  "language_info": {
   "codemirror_mode": {
    "name": "ipython",
    "version": 3
   },
   "file_extension": ".py",
   "mimetype": "text/x-python",
   "name": "python",
   "nbconvert_exporter": "python",
   "pygments_lexer": "ipython3",
   "version": "3.6.8"
  }
 },
 "nbformat": 4,
 "nbformat_minor": 2
}
