{
 "cells": [
  {
   "cell_type": "code",
   "execution_count": 1,
   "metadata": {},
   "outputs": [],
   "source": [
    "import jsonlines\n",
    "import json\n",
    "import re\n",
    "import numpy as np\n",
    "import pandas as pd\n",
    "import seaborn as sns\n",
    "import matplotlib.pyplot as plt"
   ]
  },
  {
   "cell_type": "code",
   "execution_count": 2,
   "metadata": {},
   "outputs": [],
   "source": [
    "def clean_text(text):\n",
    "    text = text.replace(u'\\xa0', u' ')\n",
    "    text = re.sub(r' +', ' ', text)\n",
    "    text = re.sub(r'\\n +', '\\n', text)\n",
    "    text = re.sub(r'\\r?\\n(?!\\r?\\n)', ' ', text)\n",
    "    text = re.sub(r'\\n{2,}', '\\n\\n', text)\n",
    "    text = re.sub(r'\\n\\n ?', '\\n\\n', text)\n",
    "    text = re.sub(r' +', ' ', text)\n",
    "    text = re.sub(r'- ?\\n\\n', '- ', text)\n",
    "    text = re.sub(r'([,\\)\\w°])( ?\\n\\n ?)(\\w)', '\\g<1> \\g<3>', text, flags=re.IGNORECASE)\n",
    "    text = re.sub(r'[0-9]\\n\\n,', ',', text)\n",
    "    text = re.sub(r'\\n\\n([.,]) ?\\n\\n', '\\g<1>\\n\\n', text)\n",
    "    text = re.sub(r'\\n\\n([.,–:]) ?', '\\g<1> ', text)\n",
    "    text = re.sub(r'\\( ?\\n\\n', '(', text)\n",
    "    text = re.sub(r'(\\w)\\n\\n(\\w)', '\\g<1> \\g<2>', text, flags=re.IGNORECASE)\n",
    "    text = re.sub(r'\\n\\n([\"§])\\n\\n', ' \\g<1> ', text)\n",
    "    text = text.strip('\\n\\n')\n",
    "\n",
    "    return text"
   ]
  },
  {
   "cell_type": "code",
   "execution_count": 5,
   "metadata": {},
   "outputs": [],
   "source": [
    "acordaos_2010 = []\n",
    "with jsonlines.open('data/parsed_registers/2010.jsonl') as reader:\n",
    "    for obj in reader:\n",
    "        acordaos_2010.append({\n",
    "            'ementa': clean_text(obj['ementa']),\n",
    "            'inteiro_teor': clean_text(obj['inteiro_teor'])\n",
    "        })"
   ]
  },
  {
   "cell_type": "code",
   "execution_count": 6,
   "metadata": {},
   "outputs": [
    {
     "name": "stdout",
     "output_type": "stream",
     "text": [
      "157824\n"
     ]
    }
   ],
   "source": [
    "print(len(acordaos_2010))"
   ]
  },
  {
   "cell_type": "code",
   "execution_count": 11,
   "metadata": {},
   "outputs": [],
   "source": [
    "len_count = {}\n",
    "for acordao in acordaos_2010:\n",
    "    key = int(len(acordao['ementa']) / 100)\n",
    "    if key in len_count.keys():\n",
    "        len_count[key] = len_count[key] + 1\n",
    "    else:\n",
    "        len_count[key] = 1"
   ]
  },
  {
   "cell_type": "code",
   "execution_count": 25,
   "metadata": {},
   "outputs": [],
   "source": [
    "to_df = { 'len': [l * 100 for l in len_count.keys()], 'count': list(len_count.values()) }\n",
    "df = pd.DataFrame.from_dict(to_df)"
   ]
  },
  {
   "cell_type": "code",
   "execution_count": 15,
   "metadata": {},
   "outputs": [
    {
     "data": {
      "text/html": [
       "<div>\n",
       "<style scoped>\n",
       "    .dataframe tbody tr th:only-of-type {\n",
       "        vertical-align: middle;\n",
       "    }\n",
       "\n",
       "    .dataframe tbody tr th {\n",
       "        vertical-align: top;\n",
       "    }\n",
       "\n",
       "    .dataframe thead th {\n",
       "        text-align: right;\n",
       "    }\n",
       "</style>\n",
       "<table border=\"1\" class=\"dataframe\">\n",
       "  <thead>\n",
       "    <tr style=\"text-align: right;\">\n",
       "      <th></th>\n",
       "      <th>len</th>\n",
       "      <th>count</th>\n",
       "    </tr>\n",
       "  </thead>\n",
       "  <tbody>\n",
       "    <tr>\n",
       "      <th>0</th>\n",
       "      <td>1</td>\n",
       "      <td>7112</td>\n",
       "    </tr>\n",
       "    <tr>\n",
       "      <th>1</th>\n",
       "      <td>32</td>\n",
       "      <td>260</td>\n",
       "    </tr>\n",
       "    <tr>\n",
       "      <th>2</th>\n",
       "      <td>11</td>\n",
       "      <td>3825</td>\n",
       "    </tr>\n",
       "    <tr>\n",
       "      <th>3</th>\n",
       "      <td>19</td>\n",
       "      <td>1278</td>\n",
       "    </tr>\n",
       "    <tr>\n",
       "      <th>4</th>\n",
       "      <td>14</td>\n",
       "      <td>2617</td>\n",
       "    </tr>\n",
       "  </tbody>\n",
       "</table>\n",
       "</div>"
      ],
      "text/plain": [
       "   len  count\n",
       "0    1   7112\n",
       "1   32    260\n",
       "2   11   3825\n",
       "3   19   1278\n",
       "4   14   2617"
      ]
     },
     "execution_count": 15,
     "metadata": {},
     "output_type": "execute_result"
    }
   ],
   "source": [
    "# df = df.sort_values(by=['count'], ascending=False)\n",
    "df.head()"
   ]
  },
  {
   "cell_type": "code",
   "execution_count": 26,
   "metadata": {},
   "outputs": [
    {
     "data": {
      "text/plain": [
       "<matplotlib.axes._subplots.AxesSubplot at 0x7f1baceec5c0>"
      ]
     },
     "execution_count": 26,
     "metadata": {},
     "output_type": "execute_result"
    },
    {
     "data": {
      "image/png": "[encoded data removed]",
      "text/plain": [
       "<Figure size 1440x720 with 1 Axes>"
      ]
     },
     "metadata": {
      "needs_background": "light"
     },
     "output_type": "display_data"
    }
   ],
   "source": [
    "plt.figure(figsize=(20, 10))\n",
    "sns.barplot(y='count', x='len', data=df[:30], palette='Greens_d')"
   ]
  },
  {
   "cell_type": "code",
   "execution_count": 31,
   "metadata": {},
   "outputs": [],
   "source": [
    "def write_count_file(filename, data):\n",
    "    with open(filename, 'w') as writer:\n",
    "        write_data = json.dumps(data)\n",
    "        writer.write(write_data)"
   ]
  },
  {
   "cell_type": "code",
   "execution_count": 32,
   "metadata": {},
   "outputs": [],
   "source": [
    "write_count_file('2010_count.json', len_count)"
   ]
  },
  {
   "cell_type": "code",
   "execution_count": 3,
   "metadata": {},
   "outputs": [],
   "source": [
    "acordaos_2011 = []\n",
    "with jsonlines.open('data/parsed_registers/2011.jsonl') as reader:\n",
    "    for obj in reader:\n",
    "        acordaos_2011.append({\n",
    "            'ementa': clean_text(obj['ementa']),\n",
    "            'inteiro_teor': clean_text(obj['inteiro_teor'])\n",
    "        })"
   ]
  },
  {
   "cell_type": "code",
   "execution_count": 4,
   "metadata": {},
   "outputs": [
    {
     "name": "stdout",
     "output_type": "stream",
     "text": [
      "171255\n"
     ]
    }
   ],
   "source": [
    "print(len(acordaos_2011))"
   ]
  },
  {
   "cell_type": "code",
   "execution_count": null,
   "metadata": {},
   "outputs": [],
   "source": []
  }
 ],
 "metadata": {
  "kernelspec": {
   "display_name": "Python 3",
   "language": "python",
   "name": "python3"
  },
  "language_info": {
   "codemirror_mode": {
    "name": "ipython",
    "version": 3
   },
   "file_extension": ".py",
   "mimetype": "text/x-python",
   "name": "python",
   "nbconvert_exporter": "python",
   "pygments_lexer": "ipython3",
   "version": "3.6.8"
  }
 },
 "nbformat": 4,
 "nbformat_minor": 2
}
