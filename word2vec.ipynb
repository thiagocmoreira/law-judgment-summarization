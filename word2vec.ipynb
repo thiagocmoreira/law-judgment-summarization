{
 "cells": [
  {
   "cell_type": "code",
   "execution_count": 1,
   "metadata": {},
   "outputs": [],
   "source": [
    "import jsonlines\n",
    "import json\n",
    "from tqdm import tqdm"
   ]
  },
  {
   "cell_type": "code",
   "execution_count": 76,
   "metadata": {},
   "outputs": [],
   "source": [
    "inteiro_teor_registers = []\n",
    "with open('10000_examples.json') as json_file:\n",
    "    data = json.load(json_file)\n",
    "    inteiro_teor_registers = data['examples']"
   ]
  },
  {
   "cell_type": "code",
   "execution_count": 7,
   "metadata": {},
   "outputs": [],
   "source": [
    "from syntok.tokenizer import Tokenizer"
   ]
  },
  {
   "cell_type": "code",
   "execution_count": 77,
   "metadata": {},
   "outputs": [],
   "source": [
    "tok = Tokenizer()"
   ]
  },
  {
   "cell_type": "code",
   "execution_count": 78,
   "metadata": {},
   "outputs": [],
   "source": [
    "all_inteiro_teor_tokens = []\n",
    "for inteiro_teor in inteiro_teor_registers:\n",
    "    inteiro_teor_tokens = []\n",
    "    for token in tok.tokenize(inteiro_teor):\n",
    "        inteiro_teor_tokens.append(token.value)\n",
    "    all_inteiro_teor_tokens.append(inteiro_teor_tokens)"
   ]
  },
  {
   "cell_type": "code",
   "execution_count": 21,
   "metadata": {},
   "outputs": [],
   "source": [
    "import numpy as np"
   ]
  },
  {
   "cell_type": "code",
   "execution_count": 79,
   "metadata": {},
   "outputs": [],
   "source": [
    "sentences = []\n",
    "for tokenized_inteiro_teor in all_inteiro_teor_tokens:\n",
    "    length = int(len(tokenized_inteiro_teor)/100) + 1\n",
    "    chunks = np.array_split(tokenized_inteiro_teor, length)\n",
    "    for c in chunks:\n",
    "        sentences.append(c.tolist())"
   ]
  },
  {
   "cell_type": "code",
   "execution_count": 54,
   "metadata": {},
   "outputs": [],
   "source": [
    "from gensim.models import Word2Vec"
   ]
  },
  {
   "cell_type": "code",
   "execution_count": 82,
   "metadata": {},
   "outputs": [],
   "source": [
    "model = Word2Vec(sentences=sentences, size=100, window=5, min_count=5, workers=4, sg=0)"
   ]
  },
  {
   "cell_type": "code",
   "execution_count": 88,
   "metadata": {},
   "outputs": [
    {
     "data": {
      "text/plain": [
       "[('dou', 0.821311891078949),\n",
       " ('Nego', 0.6747440099716187),\n",
       " ('Negado', 0.6636711359024048),\n",
       " ('Dou', 0.6328099370002747),\n",
       " ('negar', 0.6131865978240967),\n",
       " ('antecipatório', 0.6057773232460022),\n",
       " ('negou', 0.6002285480499268),\n",
       " ('Negou', 0.5913956761360168),\n",
       " ('negaria', 0.5869193077087402),\n",
       " ('denego', 0.5850017070770264)]"
      ]
     },
     "execution_count": 88,
     "metadata": {},
     "output_type": "execute_result"
    }
   ],
   "source": [
    "model.wv.most_similar('nego')"
   ]
  },
  {
   "cell_type": "code",
   "execution_count": null,
   "metadata": {},
   "outputs": [],
   "source": []
  }
 ],
 "metadata": {
  "kernelspec": {
   "display_name": "Python 3",
   "language": "python",
   "name": "python3"
  },
  "language_info": {
   "codemirror_mode": {
    "name": "ipython",
    "version": 3
   },
   "file_extension": ".py",
   "mimetype": "text/x-python",
   "name": "python",
   "nbconvert_exporter": "python",
   "pygments_lexer": "ipython3",
   "version": "3.6.8"
  }
 },
 "nbformat": 4,
 "nbformat_minor": 2
}
