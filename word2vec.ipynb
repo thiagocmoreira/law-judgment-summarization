{
 "cells": [
  {
   "cell_type": "code",
   "execution_count": 1,
   "metadata": {},
   "outputs": [],
   "source": [
    "import jsonlines\n",
    "import json\n",
    "from tqdm import tqdm\n",
    "import glob\n",
    "import re"
   ]
  },
  {
   "cell_type": "code",
   "execution_count": 2,
   "metadata": {},
   "outputs": [],
   "source": [
    "path_list = glob.glob('data/final_features/*.jsonl')\n",
    "path_list = sorted(path_list)"
   ]
  },
  {
   "cell_type": "code",
   "execution_count": 10,
   "metadata": {},
   "outputs": [],
   "source": [
    "reg = re.compile(r'([0-9]+)')"
   ]
  },
  {
   "cell_type": "code",
   "execution_count": null,
   "metadata": {},
   "outputs": [],
   "source": [
    "# inteiro_teor_list = []\n",
    "# for path in path_list:\n",
    "#     year = reg.search(path).group(1)\n",
    "#     print('Running ' + year + '...')\n",
    "#     with jsonlines.open(path) as reader:\n",
    "#         for obj in tqdm(reader):\n",
    "#             inteiro_teor_list.append(obj['inteiro_teor'])"
   ]
  },
  {
   "cell_type": "code",
   "execution_count": 11,
   "metadata": {},
   "outputs": [],
   "source": [
    "from syntok.tokenizer import Tokenizer"
   ]
  },
  {
   "cell_type": "code",
   "execution_count": 12,
   "metadata": {},
   "outputs": [],
   "source": [
    "tok = Tokenizer()"
   ]
  },
  {
   "cell_type": "code",
   "execution_count": 13,
   "metadata": {},
   "outputs": [
    {
     "name": "stderr",
     "output_type": "stream",
     "text": [
      "0it [00:00, ?it/s]"
     ]
    },
    {
     "name": "stdout",
     "output_type": "stream",
     "text": [
      "Running 2010...\n"
     ]
    },
    {
     "name": "stderr",
     "output_type": "stream",
     "text": [
      "130534it [22:01, 98.75it/s]\n",
      "9it [00:00, 89.11it/s]"
     ]
    },
    {
     "name": "stdout",
     "output_type": "stream",
     "text": [
      "Running 2011...\n"
     ]
    },
    {
     "name": "stderr",
     "output_type": "stream",
     "text": [
      "139185it [29:01, 79.90it/s]\n",
      "2it [00:00, 18.91it/s]"
     ]
    },
    {
     "name": "stdout",
     "output_type": "stream",
     "text": [
      "Running 2012...\n"
     ]
    },
    {
     "name": "stderr",
     "output_type": "stream",
     "text": [
      "119398it [23:54, 83.25it/s]\n",
      "10it [00:00, 86.15it/s]"
     ]
    },
    {
     "name": "stdout",
     "output_type": "stream",
     "text": [
      "Running 2013...\n"
     ]
    },
    {
     "name": "stderr",
     "output_type": "stream",
     "text": [
      "131581it [27:53, 78.65it/s]\n",
      "9it [00:00, 87.92it/s]"
     ]
    },
    {
     "name": "stdout",
     "output_type": "stream",
     "text": [
      "Running 2014...\n"
     ]
    },
    {
     "name": "stderr",
     "output_type": "stream",
     "text": [
      "146430it [35:02, 69.63it/s]\n",
      "1it [00:00,  6.68it/s]"
     ]
    },
    {
     "name": "stdout",
     "output_type": "stream",
     "text": [
      "Running 2016...\n"
     ]
    },
    {
     "name": "stderr",
     "output_type": "stream",
     "text": [
      "119007it [24:35, 80.64it/s] \n"
     ]
    }
   ],
   "source": [
    "with open('corpus.txt', 'a+', encoding='utf-8') as f:\n",
    "    for path in path_list:\n",
    "        year = reg.search(path).group(1)\n",
    "        print('Running ' + year + '...')\n",
    "        with jsonlines.open(path) as reader:\n",
    "            for obj in tqdm(reader):\n",
    "                inteiro_teor_tokens = []\n",
    "                for token in tok.tokenize(obj['inteiro_teor'].lower()):\n",
    "                    f.write(token.value + ' ')\n",
    "                f.write('\\n')"
   ]
  },
  {
   "cell_type": "code",
   "execution_count": 2,
   "metadata": {},
   "outputs": [],
   "source": [
    "import numpy as np"
   ]
  },
  {
   "cell_type": "code",
   "execution_count": 4,
   "metadata": {},
   "outputs": [],
   "source": [
    "# sentences = []\n",
    "# for tokenized_inteiro_teor in all_inteiro_teor_tokens:\n",
    "#     length = int(len(tokenized_inteiro_teor)/100) + 1\n",
    "#     chunks = np.array_split(tokenized_inteiro_teor, length)\n",
    "#     for c in chunks:\n",
    "#         sentences.append(c.tolist())"
   ]
  },
  {
   "cell_type": "code",
   "execution_count": 3,
   "metadata": {},
   "outputs": [],
   "source": [
    "import gensim\n",
    "from gensim.models import Word2Vec\n",
    "import multiprocessing"
   ]
  },
  {
   "cell_type": "code",
   "execution_count": 4,
   "metadata": {},
   "outputs": [],
   "source": [
    "data = gensim.models.word2vec.LineSentence('corpus.txt')"
   ]
  },
  {
   "cell_type": "code",
   "execution_count": 5,
   "metadata": {},
   "outputs": [
    {
     "name": "stdout",
     "output_type": "stream",
     "text": [
      "CPU times: user 4h 58min 58s, sys: 2min 34s, total: 5h 1min 33s\n",
      "Wall time: 1h 43min 15s\n"
     ]
    }
   ],
   "source": [
    "%time model = Word2Vec(data, size=50, window=5, min_count=3, workers=multiprocessing.cpu_count())"
   ]
  },
  {
   "cell_type": "code",
   "execution_count": 8,
   "metadata": {},
   "outputs": [
    {
     "data": {
      "text/plain": [
       "[('§', 0.7885379195213318),\n",
       " ('paragrafo', 0.6839940547943115),\n",
       " ('§§', 0.5672340393066406),\n",
       " ('paragráfo', 0.5436819791793823),\n",
       " ('parágrago', 0.5433307886123657),\n",
       " ('parág', 0.5314463376998901),\n",
       " ('parágrafos', 0.5278464555740356),\n",
       " ('parágafo', 0.5212037563323975),\n",
       " ('parégrafo', 0.5155393481254578),\n",
       " ('sofreu.parágrafo', 0.5142350196838379),\n",
       " ('páragrafo', 0.5142165422439575),\n",
       " ('caput', 0.5101661682128906),\n",
       " ('prágrafo', 0.4844208061695099),\n",
       " (\"'parágrafo\", 0.4769571125507355),\n",
       " ('parágráfo', 0.4737931787967682),\n",
       " ('(§', 0.47310081124305725),\n",
       " ('parágravo', 0.46928784251213074),\n",
       " ('paráqrafo', 0.4686627984046936),\n",
       " ('licc', 0.46328204870224),\n",
       " ('dano.parágrafo', 0.44151413440704346),\n",
       " ('arágrafo', 0.43636059761047363),\n",
       " ('paráfrafo', 0.4289481043815613),\n",
       " ('ágrafo', 0.4248163104057312),\n",
       " ('art', 0.4229249060153961),\n",
       " ('pár', 0.42166656255722046)]"
      ]
     },
     "execution_count": 8,
     "metadata": {},
     "output_type": "execute_result"
    }
   ],
   "source": [
    "model.wv.most_similar('parágrafo', topn=25)"
   ]
  },
  {
   "cell_type": "code",
   "execution_count": 21,
   "metadata": {},
   "outputs": [],
   "source": [
    "keys = ['parágrafo', 'acordão', 'indeferido']"
   ]
  },
  {
   "cell_type": "code",
   "execution_count": 22,
   "metadata": {},
   "outputs": [
    {
     "name": "stderr",
     "output_type": "stream",
     "text": [
      "/home/thiago/.local/lib/python3.6/site-packages/ipykernel_launcher.py:8: DeprecationWarning: Call to deprecated `__getitem__` (Method will be removed in 4.0.0, use self.wv.__getitem__() instead).\n",
      "  \n"
     ]
    }
   ],
   "source": [
    "embedding_clusters = []\n",
    "word_clusters = []\n",
    "for word in keys:\n",
    "    embeddings = []\n",
    "    words = []\n",
    "    for similar_word, _ in model.wv.most_similar(word, topn=28):\n",
    "        words.append(similar_word)\n",
    "        embeddings.append(model[similar_word])\n",
    "    embedding_clusters.append(embeddings)\n",
    "    word_clusters.append(words)"
   ]
  },
  {
   "cell_type": "code",
   "execution_count": 23,
   "metadata": {},
   "outputs": [],
   "source": [
    "from sklearn.manifold import TSNE"
   ]
  },
  {
   "cell_type": "code",
   "execution_count": 24,
   "metadata": {},
   "outputs": [],
   "source": [
    "embedding_clusters = np.array(embedding_clusters)\n",
    "n, m, k = embedding_clusters.shape\n",
    "tsne_model_en_2d = TSNE(perplexity=15, n_components=2, init='pca', n_iter=3500, random_state=32)\n",
    "embeddings_en_2d = np.array(tsne_model_en_2d.fit_transform(embedding_clusters.reshape(n * m, k))).reshape(n, m, 2)"
   ]
  },
  {
   "cell_type": "code",
   "execution_count": 25,
   "metadata": {},
   "outputs": [
    {
     "name": "stderr",
     "output_type": "stream",
     "text": [
      "'c' argument looks like a single numeric RGB or RGBA sequence, which should be avoided as value-mapping will have precedence in case its length matches with 'x' & 'y'.  Please use a 2-D array with a single row if you really want to specify the same RGB or RGBA value for all points.\n",
      "'c' argument looks like a single numeric RGB or RGBA sequence, which should be avoided as value-mapping will have precedence in case its length matches with 'x' & 'y'.  Please use a 2-D array with a single row if you really want to specify the same RGB or RGBA value for all points.\n",
      "'c' argument looks like a single numeric RGB or RGBA sequence, which should be avoided as value-mapping will have precedence in case its length matches with 'x' & 'y'.  Please use a 2-D array with a single row if you really want to specify the same RGB or RGBA value for all points.\n"
     ]
    },
    {
     "data": {
      "image/png": "[encoded data removed]",
      "text/plain": [
       "<Figure size 1152x648 with 1 Axes>"
      ]
     },
     "metadata": {
      "needs_background": "light"
     },
     "output_type": "display_data"
    }
   ],
   "source": [
    "import matplotlib.pyplot as plt\n",
    "import matplotlib.cm as cm\n",
    "\n",
    "\n",
    "def tsne_plot_similar_words(title, labels, embedding_clusters, word_clusters, a, filename=None):\n",
    "    plt.figure(figsize=(16, 9))\n",
    "    colors = cm.rainbow(np.linspace(0, 1, len(labels)))\n",
    "    for label, embeddings, words, color in zip(labels, embedding_clusters, word_clusters, colors):\n",
    "        x = embeddings[:, 0]\n",
    "        y = embeddings[:, 1]\n",
    "        plt.scatter(x, y, c=color, alpha=a, label=label)\n",
    "        for i, word in enumerate(words):\n",
    "            plt.annotate(word, alpha=0.5, xy=(x[i], y[i]), xytext=(5, 2), textcoords='offset points', ha='right', va='bottom', size=8)\n",
    "    plt.legend(loc=4)\n",
    "    plt.title(title)\n",
    "    plt.grid(True)\n",
    "    if filename:\n",
    "        plt.savefig(filename, format='png', dpi=150, bbox_inches='tight')\n",
    "    plt.show()\n",
    "\n",
    "\n",
    "tsne_plot_similar_words('Palavras Similares', keys, embeddings_en_2d, word_clusters, 0.7, 'similar_words.png')"
   ]
  },
  {
   "cell_type": "code",
   "execution_count": 6,
   "metadata": {},
   "outputs": [],
   "source": [
    "import tensorflow as tf"
   ]
  },
  {
   "cell_type": "code",
   "execution_count": 7,
   "metadata": {},
   "outputs": [],
   "source": [
    "embeddings = {}\n",
    "for word in model.wv.vocab.keys():\n",
    "    embeddings[word] = model.wv.word_vec(word)"
   ]
  },
  {
   "cell_type": "code",
   "execution_count": 8,
   "metadata": {},
   "outputs": [],
   "source": [
    "def write_embeddings_file(embeddings, filename):\n",
    "    with open(filename, 'a+', encoding='utf-8') as f:\n",
    "        for word in tqdm(list(embeddings.keys())):\n",
    "            line = word + ' '\n",
    "            for e in embeddings[word].tolist():\n",
    "                line += str(e) + ' '\n",
    "            line = line.strip()\n",
    "            f.write(line + '\\n')"
   ]
  },
  {
   "cell_type": "code",
   "execution_count": 9,
   "metadata": {},
   "outputs": [
    {
     "name": "stderr",
     "output_type": "stream",
     "text": [
      "100%|██████████| 623264/623264 [00:29<00:00, 20953.89it/s]\n"
     ]
    }
   ],
   "source": [
    "write_embeddings_file(embeddings, 'word_embeddings/w2v_50.txt')"
   ]
  },
  {
   "cell_type": "code",
   "execution_count": 37,
   "metadata": {},
   "outputs": [],
   "source": [
    "def create_model_variables(embeddings, path_name, tensor_name):\n",
    "    embeddings_vectors = np.stack(list(embeddings.values()), axis=0)\n",
    "    emb_vars = tf.Variable(embeddings_vectors, name=tensor_name)\n",
    "\n",
    "    init = tf.global_variables_initializer()\n",
    "    saver = tf.train.Saver()\n",
    "    \n",
    "    with tf.Session() as s:\n",
    "        s.run(init)\n",
    "        save_path = saver.save(s, path_name)\n",
    "        print('Modelo salvo no diretório:', save_path)"
   ]
  },
  {
   "cell_type": "code",
   "execution_count": 38,
   "metadata": {},
   "outputs": [
    {
     "name": "stdout",
     "output_type": "stream",
     "text": [
      "Modelo salvo no diretório: new_model_dir/w2v_300.ckpt\n"
     ]
    }
   ],
   "source": [
    "create_model_variables(embeddings, 'new_model_dir/w2v_300.ckpt', 'word_embeddings')"
   ]
  },
  {
   "cell_type": "code",
   "execution_count": 39,
   "metadata": {},
   "outputs": [],
   "source": [
    "import os"
   ]
  },
  {
   "cell_type": "code",
   "execution_count": 40,
   "metadata": {},
   "outputs": [],
   "source": [
    "def create_tsv_vocab(folder):\n",
    "    words = '\\n'.join(list(embeddings.keys()))\n",
    "    path = os.path.join(folder, 'metadata.tsv')\n",
    "    with open(path, 'w', encoding='utf-8') as f:\n",
    "        f.write(words)"
   ]
  },
  {
   "cell_type": "code",
   "execution_count": 41,
   "metadata": {},
   "outputs": [],
   "source": [
    "create_tsv_vocab('new_model_dir')"
   ]
  },
  {
   "cell_type": "markdown",
   "metadata": {},
   "source": [
    "Embeddings de apenas palavras"
   ]
  },
  {
   "cell_type": "code",
   "execution_count": 42,
   "metadata": {},
   "outputs": [],
   "source": [
    "from operator import itemgetter"
   ]
  },
  {
   "cell_type": "code",
   "execution_count": 43,
   "metadata": {},
   "outputs": [],
   "source": [
    "sorted_embeddings = sorted(embeddings.items(), key=itemgetter(0))\n",
    "any_words_embedding = {}\n",
    "for index, we in enumerate(sorted_embeddings[364024:]):    \n",
    "    any_words_embedding[we[0]] = we[1]"
   ]
  },
  {
   "cell_type": "code",
   "execution_count": null,
   "metadata": {},
   "outputs": [],
   "source": [
    "create_model_variables(any_words_embedding, 'new_words_model_dir/w2v_words_300.ckpt', 'word_embedding_any_w')"
   ]
  },
  {
   "cell_type": "code",
   "execution_count": null,
   "metadata": {},
   "outputs": [],
   "source": [
    "create_tsv_vocab('new_words_model_dir')"
   ]
  },
  {
   "cell_type": "code",
   "execution_count": null,
   "metadata": {},
   "outputs": [],
   "source": [
    "len(any_words_embedding)"
   ]
  },
  {
   "cell_type": "code",
   "execution_count": null,
   "metadata": {},
   "outputs": [],
   "source": []
  }
 ],
 "metadata": {
  "kernelspec": {
   "display_name": "Python 3",
   "language": "python",
   "name": "python3"
  },
  "language_info": {
   "codemirror_mode": {
    "name": "ipython",
    "version": 3
   },
   "file_extension": ".py",
   "mimetype": "text/x-python",
   "name": "python",
   "nbconvert_exporter": "python",
   "pygments_lexer": "ipython3",
   "version": "3.6.8"
  }
 },
 "nbformat": 4,
 "nbformat_minor": 2
}
